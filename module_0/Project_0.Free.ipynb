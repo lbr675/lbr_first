{
 "cells": [
  {
   "cell_type": "code",
   "execution_count": 3,
   "metadata": {},
   "outputs": [
    {
     "name": "stdout",
     "output_type": "stream",
     "text": [
      "Введите нижнюю границу диапазона: 1\n",
      "Введите верхнюю границу диапазона: 100\n",
      "Введите количество итераций определения числа: 2500\n",
      "Ваш алгоритм угадывает число в среднем за 5 попыток\n"
     ]
    },
    {
     "data": {
      "text/plain": [
       "5"
      ]
     },
     "execution_count": 3,
     "metadata": {},
     "output_type": "execute_result"
    }
   ],
   "source": [
    "import numpy as np\n",
    "\n",
    "def game_core_v3(number,range_min,range_max):\n",
    "    # Функция принимает загаданное число number в диапазоне от range_min до range_max и возвращает число попыток count\n",
    "    # Алгоритм поиска загаданного числа основан на делении заданного диапазона на 2\n",
    "    count=0           # обнуляем счетчик числа попыток\n",
    "    a=range_min       # определяем стартовое значение нижней границы диапазона\n",
    "    b=range_max+1     # определяем стартовое значение верхней границы диапазона\n",
    "    while True:                             # запускаем цикл по определению загаданного числа\n",
    "        count += 1                          # плюсуем попытку\n",
    "        predict = int((a+b)/2)              # определяем предполагаемое число\n",
    "        if number == predict: break         # выходим из цикла, если определено загаданное число\n",
    "        elif number > predict: a=predict    # изменяем нижнюю границу диапазона\n",
    "        elif number < predict: b=predict    # изменяем верхнюю границу диапазона\n",
    "    return(count)                           # завершаем работу функции, возвращаем число попыток\n",
    "        \n",
    "def score_game(game_core):\n",
    "    # Функция определяет среднее количество попыток для отгадывания случайного числа в заданном диапазоне\n",
    "    # Функция принимает на входе функцию, определяющую загаданное число методом деления заданного диапазона на 2,\n",
    "    # возвращает среднее значение числа попыток, полученное за все итерации\n",
    "    range_min=int(input('Введите нижнюю границу диапазона: '))              # определяем нижнюю границу диапазона\n",
    "    range_max=int(input('Введите верхнюю границу диапазона: '))             # определяем верхнюю границу диапазона\n",
    "    repeat=int(input('Введите количество итераций определения числа: '))    # определяем количество итераций\n",
    "    \n",
    "    count_ls = []                                                           # список результатов (числа попыток)\n",
    "    random_array = np.random.randint(range_min,range_max, size=(repeat+1))  # формируем массив загаданных чисел\n",
    "    \n",
    "    # Для каждого значения из массива random_array вызываем функцию game_core и определяем число попыток для\n",
    "    # отгадывания задуманного числа, результат помещаем в список count_ls\n",
    "        \n",
    "    for number in random_array:\n",
    "        count_ls.append(game_core(number,range_min,range_max))\n",
    "   \n",
    "    score = int(np.mean(count_ls))   # определяем среднее значение всех элементов списка результатов\n",
    "    print(f\"Ваш алгоритм угадывает число в среднем за {score} попыток\")\n",
    "    return(score)                    # завершаем работу функции, возвращаем среднее число попыток  \n",
    "\n",
    "score_game(game_core_v3)"
   ]
  },
  {
   "cell_type": "code",
   "execution_count": null,
   "metadata": {},
   "outputs": [],
   "source": []
  }
 ],
 "metadata": {
  "kernelspec": {
   "display_name": "Python 3",
   "language": "python",
   "name": "python3"
  },
  "language_info": {
   "codemirror_mode": {
    "name": "ipython",
    "version": 3
   },
   "file_extension": ".py",
   "mimetype": "text/x-python",
   "name": "python",
   "nbconvert_exporter": "python",
   "pygments_lexer": "ipython3",
   "version": "3.8.3"
  }
 },
 "nbformat": 4,
 "nbformat_minor": 4
}
