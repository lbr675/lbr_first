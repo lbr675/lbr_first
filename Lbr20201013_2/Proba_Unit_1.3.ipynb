{
 "cells": [
  {
   "cell_type": "code",
   "execution_count": 7,
   "metadata": {},
   "outputs": [
    {
     "name": "stdout",
     "output_type": "stream",
     "text": [
      "5\n"
     ]
    }
   ],
   "source": [
    "defect_stats = [\n",
    "    {'step number': 1, 'damage': 0.98},\n",
    "    {'step number': 2, 'damage': 0.99},\n",
    "    {'step number': 3, 'damage': 0.99},\n",
    "    {'step number': 4, 'damage': 0.96},\n",
    "    {'step number': 5, 'damage': 0.97},\n",
    "    {'step number': 6, 'damage': 0.97},\n",
    "]\n",
    "var=1\n",
    "for x in defect_stats:\n",
    "    var=var*x['damage']\n",
    "    if var<0.9:\n",
    "        print(x['step number'])\n",
    "        break\n",
    "if var>0.9:\n",
    "    print('точность не ниже 90%')"
   ]
  },
  {
   "cell_type": "code",
   "execution_count": 8,
   "metadata": {},
   "outputs": [
    {
     "name": "stdout",
     "output_type": "stream",
     "text": [
      "5\n",
      "точность не ниже 90%\n"
     ]
    }
   ],
   "source": [
    "defect_stats = [\n",
    "    {'step number': 1, 'damage': 0.98},\n",
    "    {'step number': 2, 'damage': 0.99},\n",
    "    {'step number': 3, 'damage': 0.99},\n",
    "    {'step number': 4, 'damage': 0.96},\n",
    "    {'step number': 5, 'damage': 0.97},\n",
    "    {'step number': 6, 'damage': 0.97},\n",
    "]\n",
    "var=1\n",
    "for x in defect_stats:\n",
    "    var=var*x['damage']\n",
    "    if var<0.9:\n",
    "        print(x['step number'])\n",
    "        break\n",
    "print('точность не ниже 90%')"
   ]
  },
  {
   "cell_type": "code",
   "execution_count": 13,
   "metadata": {},
   "outputs": [
    {
     "name": "stdout",
     "output_type": "stream",
     "text": [
      "225\n"
     ]
    }
   ],
   "source": [
    "bodycount = {\n",
    "    'Проклятие Черной жемчужины': {\n",
    "        'человек': 17\n",
    "    }, \n",
    "\n",
    "    'Сундук мертвеца': {\n",
    "        'человек': 56,\n",
    "        'раков-отшельников': 1\n",
    "    },\n",
    "\n",
    "    'На краю света': {\n",
    "        'человек': 88\n",
    "    },\n",
    "\n",
    "    'На странных берегах': {\n",
    "        'человек': 56,\n",
    "        'русалок': 2,\n",
    "        'ядовитых жаб': 3,\n",
    "        'пиратов зомби': 2\n",
    "    }\n",
    "}\n",
    "Killed=0\n",
    "for stroka in bodycount:\n",
    "    for grafa in bodycount[stroka]:\n",
    "        Killed=Killed+(bodycount[stroka][grafa])\n",
    "print(Killed)"
   ]
  },
  {
   "cell_type": "code",
   "execution_count": 15,
   "metadata": {},
   "outputs": [
    {
     "name": "stdout",
     "output_type": "stream",
     "text": [
      "0.13121\n",
      "45.5309\n",
      "0.929658\n",
      "3.6930500000000004\n"
     ]
    }
   ],
   "source": [
    "currency = {\n",
    "\t'AMD': {\n",
    "\t\t'Name': 'Армянских драмов',\n",
    "\t\t'Nominal': 100,\n",
    "\t\t'Value': 13.121\n",
    "\t},\n",
    "\n",
    "\t'AUD': {\n",
    "\t\t'Name': 'Австралийский доллар',\n",
    "\t\t'Nominal': 1,\n",
    "\t\t'Value': 45.5309\n",
    "\t},\n",
    "\n",
    "\t'INR': {\n",
    "\t\t'Name': 'Индийских рупий',\n",
    "\t\t'Nominal': 100,\n",
    "\t\t'Value': 92.9658\n",
    "\t},\n",
    "\n",
    "\t'MDL': {\n",
    "\t\t'Name': 'Молдавских леев',\n",
    "\t\t'Nominal': 10,\n",
    "\t\t'Value': 36.9305\n",
    "\t},\n",
    "}\n",
    "Killed=0\n",
    "for stroka in currency:\n",
    "    Kurs=currency[stroka]['Value']/currency[stroka]['Nominal']\n",
    "    print(Kurs)"
   ]
  },
  {
   "cell_type": "code",
   "execution_count": 21,
   "metadata": {},
   "outputs": [
    {
     "data": {
      "text/plain": [
       "5"
      ]
     },
     "execution_count": 21,
     "metadata": {},
     "output_type": "execute_result"
    }
   ],
   "source": [
    "arrivals = {\n",
    "    'Париж': {'время': '15:25', 'статус': 'ожидается', 'рейс': ['Аэрофлот']},\n",
    "    'Пекин': {'время': '15:35', 'статус': 'опаздывает', 'рейс': ['China Southern Airlines', 'Россия','S7','KLM','LOT']},\n",
    "    'Лиссабон': {'время': '15:40', 'статус': 'ожидается', 'рейс': ['Nordwind', 'Аэрофлот']},\n",
    "}\n",
    "len(arrivals['Пекин']['рейс'])\n",
    "#arrivals['Пекин']['рейс'][0] + arrivals['Пекин']['рейс'][1]"
   ]
  },
  {
   "cell_type": "code",
   "execution_count": 1,
   "metadata": {},
   "outputs": [],
   "source": [
    "import json\n",
    "with open('data.json', 'rb') as infile:\n",
    "    data = json.load(infile)"
   ]
  },
  {
   "cell_type": "code",
   "execution_count": 2,
   "metadata": {},
   "outputs": [
    {
     "data": {
      "text/plain": [
       "dict"
      ]
     },
     "execution_count": 2,
     "metadata": {},
     "output_type": "execute_result"
    }
   ],
   "source": [
    "type(data)"
   ]
  },
  {
   "cell_type": "code",
   "execution_count": 3,
   "metadata": {},
   "outputs": [
    {
     "data": {
      "text/plain": [
       "dict_keys(['events_data'])"
      ]
     },
     "execution_count": 3,
     "metadata": {},
     "output_type": "execute_result"
    }
   ],
   "source": [
    "data.keys()"
   ]
  },
  {
   "cell_type": "code",
   "execution_count": 4,
   "metadata": {},
   "outputs": [
    {
     "data": {
      "text/plain": [
       "[{'id': 47946124,\n",
       "  'client_id': 62526,\n",
       "  'user_id': 110777,\n",
       "  'category': 'page',\n",
       "  'action': 'enter',\n",
       "  'options': {'name': 'landing'}},\n",
       " {'id': 47947076,\n",
       "  'client_id': 61944,\n",
       "  'user_id': 108565,\n",
       "  'category': 'page',\n",
       "  'action': 'enter',\n",
       "  'options': {'name': 'landing'}},\n",
       " {'id': 47962056,\n",
       "  'client_id': 27115,\n",
       "  'user_id': 49440,\n",
       "  'category': 'page',\n",
       "  'action': 'enter',\n",
       "  'options': {'name': 'page'}},\n",
       " {'id': 47962120,\n",
       "  'client_id': 27115,\n",
       "  'user_id': 49440,\n",
       "  'category': 'datepicker',\n",
       "  'action': 'apply',\n",
       "  'options': {'endDate': '2019-03-31 23:59:59',\n",
       "   'startDate': '2019-03-25 00:00:00'}},\n",
       " {'id': 47962218,\n",
       "  'client_id': 27115,\n",
       "  'user_id': 49440,\n",
       "  'category': 'table',\n",
       "  'action': 'sort',\n",
       "  'options': {'dir': 'ASC', 'name': 'deal_date'}},\n",
       " {'id': 47962238,\n",
       "  'client_id': 27115,\n",
       "  'user_id': 49440,\n",
       "  'category': 'table',\n",
       "  'action': 'sort',\n",
       "  'options': {'dir': 'DESC', 'name': 'deal_date'}},\n",
       " {'id': 47962532,\n",
       "  'client_id': 27115,\n",
       "  'user_id': 49440,\n",
       "  'category': 'table',\n",
       "  'action': 'sort',\n",
       "  'options': {'dir': 'ASC', 'name': 'deal_date'}},\n",
       " {'id': 47962534,\n",
       "  'client_id': 27115,\n",
       "  'user_id': 49440,\n",
       "  'category': 'table',\n",
       "  'action': 'sort',\n",
       "  'options': {'dir': 'DESC', 'name': 'deal_date'}},\n",
       " {'id': 47962696,\n",
       "  'client_id': 27115,\n",
       "  'user_id': 49440,\n",
       "  'category': 'datepicker',\n",
       "  'action': 'apply',\n",
       "  'options': {'endDate': '2019-03-10 23:59:59',\n",
       "   'startDate': '2019-03-04 00:00:00'}},\n",
       " {'id': 47962748,\n",
       "  'client_id': 27115,\n",
       "  'user_id': 49440,\n",
       "  'category': 'datepicker',\n",
       "  'action': 'apply',\n",
       "  'options': {'endDate': '2019-02-24 23:59:59',\n",
       "   'startDate': '2019-02-18 00:00:00'}},\n",
       " {'id': 47962830,\n",
       "  'client_id': 27115,\n",
       "  'user_id': 49440,\n",
       "  'category': 'datepicker',\n",
       "  'action': 'apply',\n",
       "  'options': {'endDate': '2019-03-31 23:59:59',\n",
       "   'startDate': '2019-03-25 00:00:00'}},\n",
       " {'id': 47962860,\n",
       "  'client_id': 27115,\n",
       "  'user_id': 49440,\n",
       "  'category': 'datepicker',\n",
       "  'action': 'apply',\n",
       "  'options': {'endDate': '2019-03-31 23:59:59',\n",
       "   'startDate': '2019-03-28 00:00:00'}},\n",
       " {'id': 47962952,\n",
       "  'client_id': 27115,\n",
       "  'user_id': 49440,\n",
       "  'category': 'datepicker',\n",
       "  'action': 'apply',\n",
       "  'options': {'endDate': '2019-03-31 23:59:59',\n",
       "   'startDate': '2019-03-29 00:00:00'}},\n",
       " {'id': 47964366,\n",
       "  'client_id': 62017,\n",
       "  'user_id': 108835,\n",
       "  'category': 'page',\n",
       "  'action': 'enter',\n",
       "  'options': {'name': 'landing'}},\n",
       " {'id': 47989384,\n",
       "  'client_id': 63120,\n",
       "  'user_id': 113069,\n",
       "  'category': 'page',\n",
       "  'action': 'enter',\n",
       "  'options': {'name': 'landing'}},\n",
       " {'id': 48010418,\n",
       "  'client_id': 59883,\n",
       "  'user_id': 108493,\n",
       "  'category': 'page',\n",
       "  'action': 'enter',\n",
       "  'options': {'name': 'landing'}},\n",
       " {'id': 48012170,\n",
       "  'client_id': 2913,\n",
       "  'user_id': 37412,\n",
       "  'category': 'page',\n",
       "  'action': 'enter',\n",
       "  'options': {'name': 'landing'}},\n",
       " {'id': 48014430,\n",
       "  'client_id': 62940,\n",
       "  'user_id': 112351,\n",
       "  'category': 'page',\n",
       "  'action': 'enter',\n",
       "  'options': {'name': 'landing'}},\n",
       " {'id': 48022684,\n",
       "  'client_id': 63149,\n",
       "  'user_id': 113143,\n",
       "  'category': 'page',\n",
       "  'action': 'enter',\n",
       "  'options': {'name': 'landing'}},\n",
       " {'id': 48026886,\n",
       "  'client_id': 45391,\n",
       "  'user_id': 76047,\n",
       "  'category': 'page',\n",
       "  'action': 'enter',\n",
       "  'options': {'name': 'landing'}},\n",
       " {'id': 48034878,\n",
       "  'client_id': 18923,\n",
       "  'user_id': 36488,\n",
       "  'category': 'page',\n",
       "  'action': 'enter',\n",
       "  'options': {'name': 'landing'}},\n",
       " {'id': 48042052,\n",
       "  'client_id': 63019,\n",
       "  'user_id': 113169,\n",
       "  'category': 'page',\n",
       "  'action': 'enter',\n",
       "  'options': {'name': 'landing'}},\n",
       " {'id': 48043326,\n",
       "  'client_id': 18923,\n",
       "  'user_id': 36488,\n",
       "  'category': 'page',\n",
       "  'action': 'enter',\n",
       "  'options': {'name': 'landing'}},\n",
       " {'id': 48043640,\n",
       "  'client_id': 18923,\n",
       "  'user_id': 36488,\n",
       "  'category': 'page',\n",
       "  'action': 'enter',\n",
       "  'options': {'name': 'landing'}},\n",
       " {'id': 48051248,\n",
       "  'client_id': 15759,\n",
       "  'user_id': 92681,\n",
       "  'category': 'page',\n",
       "  'action': 'enter',\n",
       "  'options': {'name': 'landing'}},\n",
       " {'id': 48061250,\n",
       "  'client_id': 62007,\n",
       "  'user_id': 92681,\n",
       "  'category': 'page',\n",
       "  'action': 'enter',\n",
       "  'options': {'name': 'page'}},\n",
       " {'id': 48066902,\n",
       "  'client_id': 62941,\n",
       "  'user_id': 112357,\n",
       "  'category': 'page',\n",
       "  'action': 'enter',\n",
       "  'options': {'name': 'landing'}},\n",
       " {'id': 48081876,\n",
       "  'client_id': 51009,\n",
       "  'user_id': 87778,\n",
       "  'category': 'page',\n",
       "  'action': 'enter',\n",
       "  'options': {'name': 'landing'}},\n",
       " {'id': 48106514,\n",
       "  'client_id': 62236,\n",
       "  'user_id': 109579,\n",
       "  'category': 'page',\n",
       "  'action': 'enter',\n",
       "  'options': {'name': 'landing'}},\n",
       " {'id': 48110768,\n",
       "  'client_id': 44682,\n",
       "  'user_id': 74909,\n",
       "  'category': 'page',\n",
       "  'action': 'enter',\n",
       "  'options': {'name': 'landing'}},\n",
       " {'id': 48114652,\n",
       "  'client_id': 39709,\n",
       "  'user_id': 67955,\n",
       "  'category': 'page',\n",
       "  'action': 'enter',\n",
       "  'options': {'name': 'landing'}},\n",
       " {'id': 48118216,\n",
       "  'client_id': 60459,\n",
       "  'user_id': 32532,\n",
       "  'category': 'page',\n",
       "  'action': 'enter',\n",
       "  'options': {'name': 'page'}},\n",
       " {'id': 48118370,\n",
       "  'client_id': 62144,\n",
       "  'user_id': 109283,\n",
       "  'category': 'page',\n",
       "  'action': 'enter',\n",
       "  'options': {'name': 'landing'}},\n",
       " {'id': 48118516,\n",
       "  'client_id': 60459,\n",
       "  'user_id': 32532,\n",
       "  'category': 'report',\n",
       "  'action': 'change_mode',\n",
       "  'options': {'mode': 'deals'}},\n",
       " {'id': 48118564,\n",
       "  'client_id': 60459,\n",
       "  'user_id': 32532,\n",
       "  'category': 'report',\n",
       "  'action': 'change_mode',\n",
       "  'options': {'mode': 'summary'}},\n",
       " {'id': 48118590,\n",
       "  'client_id': 60459,\n",
       "  'user_id': 32532,\n",
       "  'category': 'report',\n",
       "  'action': 'change_mode',\n",
       "  'options': {'mode': 'deals'}},\n",
       " {'id': 48118920,\n",
       "  'client_id': 60459,\n",
       "  'user_id': 32532,\n",
       "  'category': 'report',\n",
       "  'action': 'change_mode',\n",
       "  'options': {'mode': 'summary'}},\n",
       " {'id': 48120374,\n",
       "  'client_id': 60459,\n",
       "  'user_id': 32532,\n",
       "  'category': 'page',\n",
       "  'action': 'enter',\n",
       "  'options': {'name': 'page'}},\n",
       " {'id': 48120386,\n",
       "  'client_id': 60459,\n",
       "  'user_id': 32532,\n",
       "  'category': 'report',\n",
       "  'action': 'change_mode',\n",
       "  'options': {'mode': 'deals'}},\n",
       " {'id': 48120602,\n",
       "  'client_id': 52492,\n",
       "  'user_id': 91178,\n",
       "  'category': 'page',\n",
       "  'action': 'enter',\n",
       "  'options': {'name': 'page'}},\n",
       " {'id': 48120604,\n",
       "  'client_id': 52492,\n",
       "  'user_id': 105477,\n",
       "  'category': 'page',\n",
       "  'action': 'enter',\n",
       "  'options': {'name': 'page'}},\n",
       " {'id': 48120770,\n",
       "  'client_id': 60459,\n",
       "  'user_id': 32532,\n",
       "  'category': 'page',\n",
       "  'action': 'enter',\n",
       "  'options': {'name': 'page'}},\n",
       " {'id': 48120876,\n",
       "  'client_id': 60459,\n",
       "  'user_id': 32532,\n",
       "  'category': 'table',\n",
       "  'action': 'sort',\n",
       "  'options': {'dir': 'ASC', 'name': 'visitor_id'}},\n",
       " {'id': 48120896,\n",
       "  'client_id': 60459,\n",
       "  'user_id': 32532,\n",
       "  'category': 'table',\n",
       "  'action': 'sort',\n",
       "  'options': {'dir': 'DESC', 'name': 'visitor_id'}},\n",
       " {'id': 48121006,\n",
       "  'client_id': 60459,\n",
       "  'user_id': 32532,\n",
       "  'category': 'table',\n",
       "  'action': 'sort',\n",
       "  'options': {'dir': 'ASC', 'name': 'visitor_id'}},\n",
       " {'id': 48121008,\n",
       "  'client_id': 60459,\n",
       "  'user_id': 32532,\n",
       "  'category': 'table',\n",
       "  'action': 'sort',\n",
       "  'options': {'dir': 'DESC', 'name': 'visitor_id'}},\n",
       " {'id': 48125372,\n",
       "  'client_id': 52492,\n",
       "  'user_id': 91178,\n",
       "  'category': 'page',\n",
       "  'action': 'enter',\n",
       "  'options': {'name': 'page'}},\n",
       " {'id': 48130434,\n",
       "  'client_id': 18923,\n",
       "  'user_id': 36488,\n",
       "  'category': 'page',\n",
       "  'action': 'enter',\n",
       "  'options': {'name': 'landing'}},\n",
       " {'id': 48135712,\n",
       "  'client_id': 25301,\n",
       "  'user_id': 54229,\n",
       "  'category': 'page',\n",
       "  'action': 'enter',\n",
       "  'options': {'name': 'landing'}},\n",
       " {'id': 48136376,\n",
       "  'client_id': 18923,\n",
       "  'user_id': 36488,\n",
       "  'category': 'page',\n",
       "  'action': 'enter',\n",
       "  'options': {'name': 'landing'}},\n",
       " {'id': 48136890,\n",
       "  'client_id': 33645,\n",
       "  'user_id': 61378,\n",
       "  'category': 'page',\n",
       "  'action': 'enter',\n",
       "  'options': {'name': 'landing'}},\n",
       " {'id': 48145332,\n",
       "  'client_id': 62089,\n",
       "  'user_id': 109095,\n",
       "  'category': 'page',\n",
       "  'action': 'enter',\n",
       "  'options': {'name': 'landing'}},\n",
       " {'id': 48155244,\n",
       "  'client_id': 26705,\n",
       "  'user_id': 48880,\n",
       "  'category': 'page',\n",
       "  'action': 'enter',\n",
       "  'options': {'name': 'landing'}},\n",
       " {'id': 48160942,\n",
       "  'client_id': 1103,\n",
       "  'user_id': 109501,\n",
       "  'category': 'page',\n",
       "  'action': 'enter',\n",
       "  'options': {'name': 'page'}},\n",
       " {'id': 48166190,\n",
       "  'client_id': 62439,\n",
       "  'user_id': 110397,\n",
       "  'category': 'page',\n",
       "  'action': 'enter',\n",
       "  'options': {'name': 'landing'}},\n",
       " {'id': 48167428,\n",
       "  'client_id': 44196,\n",
       "  'user_id': 74136,\n",
       "  'category': 'page',\n",
       "  'action': 'enter',\n",
       "  'options': {'name': 'landing'}},\n",
       " {'id': 48171114,\n",
       "  'client_id': 62602,\n",
       "  'user_id': 111069,\n",
       "  'category': 'page',\n",
       "  'action': 'enter',\n",
       "  'options': {'name': 'page'}},\n",
       " {'id': 48173426,\n",
       "  'client_id': 62602,\n",
       "  'user_id': 111069,\n",
       "  'category': 'page',\n",
       "  'action': 'enter',\n",
       "  'options': {'name': 'page'}},\n",
       " {'id': 48173444,\n",
       "  'client_id': 62602,\n",
       "  'user_id': 111069,\n",
       "  'category': 'report',\n",
       "  'action': 'link_click',\n",
       "  'options': {'url': 'javascript:void(0);',\n",
       "   'name': 'deal_count',\n",
       "   'value': '1'}},\n",
       " {'id': 48173446,\n",
       "  'client_id': 62602,\n",
       "  'user_id': 111069,\n",
       "  'category': 'page',\n",
       "  'action': 'enter',\n",
       "  'options': {'name': 'page'}},\n",
       " {'id': 48173640,\n",
       "  'client_id': 62602,\n",
       "  'user_id': 111069,\n",
       "  'category': 'page',\n",
       "  'action': 'enter',\n",
       "  'options': {'name': 'page'}},\n",
       " {'id': 48173686,\n",
       "  'client_id': 62602,\n",
       "  'user_id': 111069,\n",
       "  'category': 'page',\n",
       "  'action': 'enter',\n",
       "  'options': {'name': 'page'}},\n",
       " {'id': 48173698,\n",
       "  'client_id': 62602,\n",
       "  'user_id': 111069,\n",
       "  'category': 'page',\n",
       "  'action': 'enter',\n",
       "  'options': {'name': 'page'}},\n",
       " {'id': 48174302,\n",
       "  'client_id': 62602,\n",
       "  'user_id': 111069,\n",
       "  'category': 'page',\n",
       "  'action': 'enter',\n",
       "  'options': {'name': 'page'}},\n",
       " {'id': 48174312,\n",
       "  'client_id': 62602,\n",
       "  'user_id': 111069,\n",
       "  'category': 'report',\n",
       "  'action': 'link_click',\n",
       "  'options': {'url': 'javascript:void(0);',\n",
       "   'name': 'deal_count',\n",
       "   'value': '1'}},\n",
       " {'id': 48174314,\n",
       "  'client_id': 62602,\n",
       "  'user_id': 111069,\n",
       "  'category': 'page',\n",
       "  'action': 'enter',\n",
       "  'options': {'name': 'page'}},\n",
       " {'id': 48174338,\n",
       "  'client_id': 62602,\n",
       "  'user_id': 111069,\n",
       "  'category': 'page',\n",
       "  'action': 'enter',\n",
       "  'options': {'name': 'page'}},\n",
       " {'id': 48179988,\n",
       "  'client_id': 50149,\n",
       "  'user_id': 86073,\n",
       "  'category': 'page',\n",
       "  'action': 'enter',\n",
       "  'options': {'name': 'landing'}},\n",
       " {'id': 57301281,\n",
       "  'client_id': 57009,\n",
       "  'user_id': 107244,\n",
       "  'category': 'page',\n",
       "  'action': 'enter',\n",
       "  'options': {'name': 'landing'}},\n",
       " {'id': 57326589,\n",
       "  'client_id': 57207,\n",
       "  'user_id': 107968,\n",
       "  'category': 'page',\n",
       "  'action': 'enter',\n",
       "  'options': {'name': 'landing'}},\n",
       " {'id': 57328781,\n",
       "  'client_id': 32792,\n",
       "  'user_id': 57997,\n",
       "  'category': 'page',\n",
       "  'action': 'enter',\n",
       "  'options': {'name': 'landing'}},\n",
       " {'id': 57335607,\n",
       "  'client_id': 27323,\n",
       "  'user_id': 92681,\n",
       "  'category': 'page',\n",
       "  'action': 'enter',\n",
       "  'options': {'name': 'landing'}},\n",
       " {'id': 57355249,\n",
       "  'client_id': 24500,\n",
       "  'user_id': 45371,\n",
       "  'category': 'page',\n",
       "  'action': 'enter',\n",
       "  'options': {'name': 'landing'}},\n",
       " {'id': 57357969,\n",
       "  'client_id': 24500,\n",
       "  'user_id': 45371,\n",
       "  'category': 'page',\n",
       "  'action': 'enter',\n",
       "  'options': {'name': 'page'}},\n",
       " {'id': 57364085,\n",
       "  'client_id': 58330,\n",
       "  'user_id': 122756,\n",
       "  'category': 'page',\n",
       "  'action': 'enter',\n",
       "  'options': {'name': 'landing'}},\n",
       " {'id': 57368897,\n",
       "  'client_id': 61245,\n",
       "  'user_id': 122796,\n",
       "  'category': 'page',\n",
       "  'action': 'enter',\n",
       "  'options': {'name': 'landing'}},\n",
       " {'id': 57380235,\n",
       "  'client_id': 19799,\n",
       "  'user_id': 108493,\n",
       "  'category': 'page',\n",
       "  'action': 'enter',\n",
       "  'options': {'name': 'landing'}},\n",
       " {'id': 57397813,\n",
       "  'client_id': 56544,\n",
       "  'user_id': 105404,\n",
       "  'category': 'page',\n",
       "  'action': 'enter',\n",
       "  'options': {'name': 'page'}},\n",
       " {'id': 57397881,\n",
       "  'client_id': 56544,\n",
       "  'user_id': 105404,\n",
       "  'category': 'datepicker',\n",
       "  'action': 'apply',\n",
       "  'options': {'endDate': '2019-03-31 23:59:59',\n",
       "   'startDate': '2019-03-31 00:00:00'}},\n",
       " {'id': 57397923,\n",
       "  'client_id': 56544,\n",
       "  'user_id': 105404,\n",
       "  'category': 'datepicker',\n",
       "  'action': 'apply',\n",
       "  'options': {'endDate': '2019-03-30 23:59:59',\n",
       "   'startDate': '2019-03-30 00:00:00'}},\n",
       " {'id': 57397987,\n",
       "  'client_id': 56544,\n",
       "  'user_id': 105404,\n",
       "  'category': 'datepicker',\n",
       "  'action': 'apply',\n",
       "  'options': {'endDate': '2019-03-29 23:59:59',\n",
       "   'startDate': '2019-03-29 00:00:00'}},\n",
       " {'id': 57398079,\n",
       "  'client_id': 56544,\n",
       "  'user_id': 105404,\n",
       "  'category': 'datepicker',\n",
       "  'action': 'apply',\n",
       "  'options': {'endDate': '2019-03-28 23:59:59',\n",
       "   'startDate': '2019-03-28 00:00:00'}},\n",
       " {'id': 57398119,\n",
       "  'client_id': 56544,\n",
       "  'user_id': 105404,\n",
       "  'category': 'datepicker',\n",
       "  'action': 'apply',\n",
       "  'options': {'endDate': '2019-03-27 23:59:59',\n",
       "   'startDate': '2019-03-27 00:00:00'}},\n",
       " {'id': 57398165,\n",
       "  'client_id': 56544,\n",
       "  'user_id': 105404,\n",
       "  'category': 'datepicker',\n",
       "  'action': 'apply',\n",
       "  'options': {'endDate': '2019-03-26 23:59:59',\n",
       "   'startDate': '2019-03-26 00:00:00'}},\n",
       " {'id': 57398203,\n",
       "  'client_id': 56544,\n",
       "  'user_id': 105404,\n",
       "  'category': 'datepicker',\n",
       "  'action': 'apply',\n",
       "  'options': {'endDate': '2019-03-25 23:59:59',\n",
       "   'startDate': '2019-03-25 00:00:00'}},\n",
       " {'id': 57414209,\n",
       "  'client_id': 23207,\n",
       "  'user_id': 43300,\n",
       "  'category': 'page',\n",
       "  'action': 'enter',\n",
       "  'options': {'name': 'landing'}},\n",
       " {'id': 57414633,\n",
       "  'client_id': 23207,\n",
       "  'user_id': 43300,\n",
       "  'category': 'page',\n",
       "  'action': 'enter',\n",
       "  'options': {'name': 'landing'}},\n",
       " {'id': 57414663,\n",
       "  'client_id': 23207,\n",
       "  'user_id': 85282,\n",
       "  'category': 'page',\n",
       "  'action': 'enter',\n",
       "  'options': {'name': 'landing'}},\n",
       " {'id': 57414851,\n",
       "  'client_id': 23207,\n",
       "  'user_id': 43300,\n",
       "  'category': 'page',\n",
       "  'action': 'enter',\n",
       "  'options': {'name': 'landing'}},\n",
       " {'id': 57420219,\n",
       "  'client_id': 48128,\n",
       "  'user_id': 121686,\n",
       "  'category': 'page',\n",
       "  'action': 'enter',\n",
       "  'options': {'name': 'landing'}},\n",
       " {'id': 57424709,\n",
       "  'client_id': 58113,\n",
       "  'user_id': 120952,\n",
       "  'category': 'page',\n",
       "  'action': 'enter',\n",
       "  'options': {'name': 'page'}},\n",
       " {'id': 57424757,\n",
       "  'client_id': 58113,\n",
       "  'user_id': 120952,\n",
       "  'category': 'report',\n",
       "  'action': 'change_mode',\n",
       "  'options': {'mode': 'deals'}},\n",
       " {'id': 57425399,\n",
       "  'client_id': 58113,\n",
       "  'user_id': 120952,\n",
       "  'category': 'table',\n",
       "  'action': 'sort',\n",
       "  'options': {'dir': 'ASC', 'name': 'ac'}},\n",
       " {'id': 57425421,\n",
       "  'client_id': 58113,\n",
       "  'user_id': 120952,\n",
       "  'category': 'table',\n",
       "  'action': 'sort',\n",
       "  'options': {'dir': 'DESC', 'name': 'ac'}},\n",
       " {'id': 57426007,\n",
       "  'client_id': 58113,\n",
       "  'user_id': 120952,\n",
       "  'category': 'datepicker',\n",
       "  'action': 'apply',\n",
       "  'options': {'endDate': '2019-03-24 23:59:59',\n",
       "   'startDate': '2019-03-18 00:00:00'}},\n",
       " {'id': 57426303,\n",
       "  'client_id': 58113,\n",
       "  'user_id': 120952,\n",
       "  'category': 'datepicker',\n",
       "  'action': 'apply',\n",
       "  'options': {'endDate': '2019-03-17 23:59:59',\n",
       "   'startDate': '2019-03-11 00:00:00'}},\n",
       " {'id': 57431787,\n",
       "  'client_id': 58113,\n",
       "  'user_id': 120952,\n",
       "  'category': 'page',\n",
       "  'action': 'enter',\n",
       "  'options': {'name': 'page'}},\n",
       " {'id': 57444593,\n",
       "  'client_id': 57613,\n",
       "  'user_id': 110958,\n",
       "  'category': 'page',\n",
       "  'action': 'enter',\n",
       "  'options': {'name': 'landing'}},\n",
       " {'id': 57453741,\n",
       "  'client_id': 61244,\n",
       "  'user_id': 120170,\n",
       "  'category': 'page',\n",
       "  'action': 'enter',\n",
       "  'options': {'name': 'landing'}},\n",
       " {'id': 57467371,\n",
       "  'client_id': 53666,\n",
       "  'user_id': 122224,\n",
       "  'category': 'page',\n",
       "  'action': 'enter',\n",
       "  'options': {'name': 'landing'}},\n",
       " {'id': 57473917,\n",
       "  'client_id': 53018,\n",
       "  'user_id': 92402,\n",
       "  'category': 'page',\n",
       "  'action': 'enter',\n",
       "  'options': {'name': 'landing'}},\n",
       " {'id': 57475785,\n",
       "  'client_id': 53666,\n",
       "  'user_id': 122224,\n",
       "  'category': 'page',\n",
       "  'action': 'enter',\n",
       "  'options': {'name': 'landing'}},\n",
       " {'id': 57492477,\n",
       "  'client_id': 41737,\n",
       "  'user_id': 122874,\n",
       "  'category': 'page',\n",
       "  'action': 'enter',\n",
       "  'options': {'name': 'landing'}},\n",
       " {'id': 57493427,\n",
       "  'client_id': 61078,\n",
       "  'user_id': 119662,\n",
       "  'category': 'page',\n",
       "  'action': 'enter',\n",
       "  'options': {'name': 'landing'}},\n",
       " {'id': 57515935,\n",
       "  'client_id': 20820,\n",
       "  'user_id': 116898,\n",
       "  'category': 'page',\n",
       "  'action': 'enter',\n",
       "  'options': {'name': 'landing'}},\n",
       " {'id': 57517657,\n",
       "  'client_id': 41737,\n",
       "  'user_id': 122874,\n",
       "  'category': 'page',\n",
       "  'action': 'enter',\n",
       "  'options': {'name': 'landing'}},\n",
       " {'id': 57540495,\n",
       "  'client_id': 49700,\n",
       "  'user_id': 84946,\n",
       "  'category': 'page',\n",
       "  'action': 'enter',\n",
       "  'options': {'name': 'landing'}}]"
      ]
     },
     "execution_count": 4,
     "metadata": {},
     "output_type": "execute_result"
    }
   ],
   "source": [
    "data['events_data']"
   ]
  },
  {
   "cell_type": "code",
   "execution_count": 6,
   "metadata": {},
   "outputs": [
    {
     "name": "stdout",
     "output_type": "stream",
     "text": [
      "107\n"
     ]
    }
   ],
   "source": [
    "data_list = data['events_data']\n",
    "print(len(data_list))"
   ]
  },
  {
   "cell_type": "code",
   "execution_count": 7,
   "metadata": {},
   "outputs": [
    {
     "name": "stdout",
     "output_type": "stream",
     "text": [
      "['page', 'page', 'page', 'datepicker', 'table', 'table', 'table', 'table', 'datepicker', 'datepicker', 'datepicker', 'datepicker', 'datepicker', 'page', 'page', 'page', 'page', 'page', 'page', 'page', 'page', 'page', 'page', 'page', 'page', 'page', 'page', 'page', 'page', 'page', 'page', 'page', 'page', 'report', 'report', 'report', 'report', 'page', 'report', 'page', 'page', 'page', 'table', 'table', 'table', 'table', 'page', 'page', 'page', 'page', 'page', 'page', 'page', 'page', 'page', 'page', 'page', 'page', 'report', 'page', 'page', 'page', 'page', 'page', 'report', 'page', 'page', 'page', 'page', 'page', 'page', 'page', 'page', 'page', 'page', 'page', 'page', 'page', 'datepicker', 'datepicker', 'datepicker', 'datepicker', 'datepicker', 'datepicker', 'datepicker', 'page', 'page', 'page', 'page', 'page', 'page', 'report', 'table', 'table', 'datepicker', 'datepicker', 'page', 'page', 'page', 'page', 'page', 'page', 'page', 'page', 'page', 'page', 'page']\n"
     ]
    }
   ],
   "source": [
    "categories = []\n",
    "for item in data_list:\n",
    "    category = item['category']\n",
    "    categories.append(category)\n",
    "print (categories)"
   ]
  },
  {
   "cell_type": "code",
   "execution_count": 8,
   "metadata": {},
   "outputs": [
    {
     "name": "stdout",
     "output_type": "stream",
     "text": [
      "Counter({'page': 74, 'datepicker': 15, 'table': 10, 'report': 8})\n"
     ]
    }
   ],
   "source": [
    "import collections\n",
    "c = collections.Counter()\n",
    "for category in categories:\n",
    "    c[category] += 1\n",
    "print (c)"
   ]
  },
  {
   "cell_type": "code",
   "execution_count": 9,
   "metadata": {},
   "outputs": [
    {
     "name": "stdout",
     "output_type": "stream",
     "text": [
      "[27115, 27115, 27115, 27115, 60459, 60459, 60459, 60459, 58113, 58113]\n"
     ]
    }
   ],
   "source": [
    "table_clients = []\n",
    "for item in data_list:\n",
    "    client_id = item['client_id']\n",
    "    category = item['category']\n",
    "    if category == 'table':\n",
    "        table_clients.append(client_id)\n",
    "print (table_clients)"
   ]
  },
  {
   "cell_type": "code",
   "execution_count": 4,
   "metadata": {},
   "outputs": [
    {
     "name": "stdout",
     "output_type": "stream",
     "text": [
      "Введите ДА или НЕТ: да\n",
      "Вы ответили \"ДА\"! Я счастлив!\n",
      "да\n"
     ]
    }
   ],
   "source": [
    "answer = input('Введите ДА или НЕТ: ')\n",
    "if answer.lower() == 'да':\n",
    "    print('Вы ответили \"ДА\"! Я счастлив!')\n",
    "print(answer)"
   ]
  },
  {
   "cell_type": "code",
   "execution_count": 6,
   "metadata": {},
   "outputs": [
    {
     "name": "stdout",
     "output_type": "stream",
     "text": [
      "[3.14, 2.71, 6.02, 11.22, 123.987]\n"
     ]
    }
   ],
   "source": [
    "new_numbers = []\n",
    "for number in '3,14 2,71 6,02 11,22 123,987'.split():\n",
    "    new_numbers.append(float(number.replace(',', '.')))\n",
    "print(new_numbers)"
   ]
  },
  {
   "cell_type": "code",
   "execution_count": 8,
   "metadata": {},
   "outputs": [
    {
     "name": "stdout",
     "output_type": "stream",
     "text": [
      "Интернет-открытки - это лучшее средство для мужчины сказать женщине о своих чувствах прямо в глаза.\n",
      "лучшее\n",
      "Интернет-открытки - это ЛУЧШЕЕ средство для мужчины сказать женщине о своих чувствах прямо в глаза.\n"
     ]
    }
   ],
   "source": [
    "string = 'Интернет-открытки - это лучшее средство для мужчины сказать женщине о своих чувствах прямо в глаза.'\n",
    "secret = string[24:30]\n",
    "new_string = string.replace(secret.lower(), secret.upper())\n",
    "print(string)\n",
    "print(secret)\n",
    "print(new_string)"
   ]
  },
  {
   "cell_type": "code",
   "execution_count": 9,
   "metadata": {},
   "outputs": [
    {
     "name": "stdout",
     "output_type": "stream",
     "text": [
      "qwerty\n",
      "Qwerty\n",
      "qwerty\n"
     ]
    }
   ],
   "source": [
    "string='qwerty'\n",
    "print(string)\n",
    "print(string.replace(string[0], string[0].upper()))\n",
    "print(string)"
   ]
  },
  {
   "cell_type": "code",
   "execution_count": 10,
   "metadata": {},
   "outputs": [
    {
     "name": "stdout",
     "output_type": "stream",
     "text": [
      "qwerty\n",
      "Qwerty\n"
     ]
    }
   ],
   "source": [
    "string='qwerty'\n",
    "print(string)\n",
    "string = string.replace(string[0], string[0].upper())\n",
    "print(string)"
   ]
  },
  {
   "cell_type": "code",
   "execution_count": 12,
   "metadata": {},
   "outputs": [
    {
     "name": "stdout",
     "output_type": "stream",
     "text": [
      "Тяжёлая интернет:)зависимость :) это когда ты выходишь из интернета:) а он из тебя нет:)\n"
     ]
    }
   ],
   "source": [
    "string = 'Тяжёлая интернет-зависимость - это когда ты выходишь из интернета, а он из тебя нет.'\n",
    "string=string.replace(':',':)')\n",
    "string=string.replace('.',':)')\n",
    "string=string.replace(',',':)')\n",
    "string=string.replace('-',':)')\n",
    "string=string.replace('!',':)')\n",
    "string=string.replace('?',':)')\n",
    "print(string)"
   ]
  },
  {
   "cell_type": "code",
   "execution_count": 17,
   "metadata": {},
   "outputs": [
    {
     "name": "stdout",
     "output_type": "stream",
     "text": [
      "О - гласная буква\n",
      "л - согласная буква\n",
      "ё - гласная буква\n",
      "н - согласная буква\n",
      "а - гласная буква\n"
     ]
    }
   ],
   "source": [
    "name = 'Олёна'\n",
    "glas=['а','е','ё','и','о','у','ы','э','ю','я']\n",
    "soglas=['б','в','г','д','ж','з','й','к','л','м','н','п','р','с','т','ф','х','ц','ч','ш','щ']\n",
    "for x in range (0,len(name)):\n",
    "    if name[x].lower() in glas:\n",
    "        print(name[x],'- гласная буква')\n",
    "    elif name[x].lower() in soglas:\n",
    "        print(name[x],'- согласная буква')\n",
    "    else:\n",
    "        print(name[x])"
   ]
  },
  {
   "cell_type": "code",
   "execution_count": 27,
   "metadata": {},
   "outputs": [
    {
     "data": {
      "text/plain": [
       "['Йо!', 'Учиться,', 'И ', 'Вперед!', 'Только ']"
      ]
     },
     "execution_count": 27,
     "metadata": {},
     "output_type": "execute_result"
    }
   ],
   "source": [
    "import re\n",
    "pattern = re.compile('[А-Я][а-я]*\\W')\n",
    "string = '!!! Йо! Учиться, учиться И учиться! Вперед! Только вперед!' \n",
    "#pattern.match(string)\n",
    "#pattern.search(string)\n",
    "pattern.findall(string)"
   ]
  },
  {
   "cell_type": "code",
   "execution_count": 40,
   "metadata": {},
   "outputs": [
    {
     "data": {
      "text/plain": [
       "['асши', 'амми', 'ающи', 'ающи']"
      ]
     },
     "execution_count": 40,
     "metadata": {},
     "output_type": "execute_result"
    }
   ],
   "source": [
    "import re\n",
    "pattern = re.compile('[а]\\w\\w[и]')\n",
    "text = 'Разработка языка Python была начата в конце 1980-х годов сотрудником голландского института CWI Гвидо ван Россумом. Для распределённой ОС Amoeba требовался расширяемый скриптовый язык, и Гвидо начал писать Python на досуге, позаимствовав некоторые наработки для языка ABC (Гвидо участвовал в разработке этого языка, ориентированного на обучение программированию). В феврале 1991 года Гвидо опубликовал исходный текст в группе новостей alt.sources. Название языка произошло вовсе не от вида пресмыкающихся. Автор назвал язык в честь популярного британского камедийного телешоу 1970-х \"Летающий цирк Монти Пайтона\".'\n",
    "#pattern.search(text)\n",
    "pattern.findall(text)"
   ]
  },
  {
   "cell_type": "code",
   "execution_count": 52,
   "metadata": {},
   "outputs": [
    {
     "data": {
      "text/plain": [
       "['а н',\n",
       " 'а в',\n",
       " 'о в',\n",
       " 'я р',\n",
       " 'я р',\n",
       " 'и Г',\n",
       " 'о н',\n",
       " 'а д',\n",
       " 'е н',\n",
       " 'и д',\n",
       " 'о н',\n",
       " 'е п',\n",
       " 'а Г',\n",
       " 'е н',\n",
       " 'а п',\n",
       " 'о в',\n",
       " 'е н',\n",
       " 'а п',\n",
       " 'о б',\n",
       " 'о к',\n",
       " 'о т',\n",
       " 'и П']"
      ]
     },
     "execution_count": 52,
     "metadata": {},
     "output_type": "execute_result"
    }
   ],
   "source": [
    "import re\n",
    "pattern = re.compile('[АЕЁИОУЫЭЮЯаеёиоуыэюя]\\s[БВГДЖЗЙКЛМНПРСТФХЧШЩбвгджзйклмнпрстфхцчшщ]')\n",
    "text = 'Разработка языка Python была начата в конце 1980-х годов сотрудником голландского института CWI Гвидо ван Россумом. Для распределённой ОС Amoeba требовался расширяемый скриптовый язык, и Гвидо начал писать Python на досуге, позаимствовав некоторые наработки для языка ABC (Гвидо участвовал в разработке этого языка, ориентированного на обучение программированию). В феврале 1991 года Гвидо опубликовал исходный текст в группе новостей alt.sources. Название языка произошло вовсе не от вида пресмыкающихся. Автор назвал язык в честь популярного британского камедийного телешоу 1970-х \"Летающий цирк Монти Пайтона\".'\n",
    "#pattern.search(text)\n",
    "pattern.findall(text)\n",
    "#glas=['а','е','ё','и','о','у','ы','э','ю','я']\n",
    "#soglas=['б','в','г','д','ж','з','й','к','л','м','н','п','р','с','т','ф','х','ц','ч','ш','щ']"
   ]
  },
  {
   "cell_type": "code",
   "execution_count": 14,
   "metadata": {},
   "outputs": [
    {
     "data": {
      "text/plain": [
       "['Африка - моя']"
      ]
     },
     "execution_count": 14,
     "metadata": {},
     "output_type": "execute_result"
    }
   ],
   "source": [
    "import re\n",
    "pattern = re.compile('[АЕИ][а-я]+\\s\\-\\s[а-я]+')\n",
    "text = 'Африка - моя любовь!'\n",
    "#pattern.search(text)\n",
    "#pattern.match(text)\n",
    "pattern.findall(text)"
   ]
  },
  {
   "cell_type": "code",
   "execution_count": 13,
   "metadata": {},
   "outputs": [
    {
     "data": {
      "text/plain": [
       "[]"
      ]
     },
     "execution_count": 13,
     "metadata": {},
     "output_type": "execute_result"
    }
   ],
   "source": [
    "import re\n",
    "pattern = re.compile('[АЕИ][а-я]+\\s\\-\\s[а-я]+')\n",
    "text = 'Арбуз полезен для здоровья.'\n",
    "#pattern.search(text)\n",
    "#pattern.match(text)\n",
    "pattern.findall(text)"
   ]
  },
  {
   "cell_type": "code",
   "execution_count": 12,
   "metadata": {},
   "outputs": [
    {
     "data": {
      "text/plain": [
       "[]"
      ]
     },
     "execution_count": 12,
     "metadata": {},
     "output_type": "execute_result"
    }
   ],
   "source": [
    "import re\n",
    "pattern = re.compile('[АЕИ][а-я]+\\s\\-\\s[а-я]+')\n",
    "text = 'А - первая буква в алфавите.'\n",
    "#pattern.search(text)\n",
    "#pattern.match(text)\n",
    "pattern.findall(text)"
   ]
  },
  {
   "cell_type": "code",
   "execution_count": 11,
   "metadata": {},
   "outputs": [
    {
     "data": {
      "text/plain": [
       "['Ах - это']"
      ]
     },
     "execution_count": 11,
     "metadata": {},
     "output_type": "execute_result"
    }
   ],
   "source": [
    "import re\n",
    "pattern = re.compile('[АЕИ][а-я]+\\s\\-\\s[а-я]+')\n",
    "text = 'Ах - это вам не ох!'\n",
    "#pattern.search(text)\n",
    "#pattern.match(text)\n",
    "pattern.findall(text)"
   ]
  },
  {
   "cell_type": "code",
   "execution_count": null,
   "metadata": {},
   "outputs": [],
   "source": []
  }
 ],
 "metadata": {
  "kernelspec": {
   "display_name": "Python 3",
   "language": "python",
   "name": "python3"
  },
  "language_info": {
   "codemirror_mode": {
    "name": "ipython",
    "version": 3
   },
   "file_extension": ".py",
   "mimetype": "text/x-python",
   "name": "python",
   "nbconvert_exporter": "python",
   "pygments_lexer": "ipython3",
   "version": "3.8.3"
  }
 },
 "nbformat": 4,
 "nbformat_minor": 4
}
