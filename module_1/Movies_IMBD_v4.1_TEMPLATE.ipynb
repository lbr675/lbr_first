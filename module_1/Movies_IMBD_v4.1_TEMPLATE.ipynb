{
 "cells": [
  {
   "cell_type": "code",
   "execution_count": 1,
   "metadata": {
    "_cell_guid": "b1076dfc-b9ad-4769-8c92-a6c4dae69d19",
    "_uuid": "8f2839f25d086af736a60e9eeb907d3b93b6e0e5",
    "colab": {},
    "colab_type": "code",
    "id": "U2D2gTdJVp90"
   },
   "outputs": [],
   "source": [
    "import numpy as np\n",
    "import pandas as pd\n",
    "import seaborn as sns\n",
    "import matplotlib.pyplot as plt\n",
    "from collections import Counter"
   ]
  },
  {
   "cell_type": "code",
   "execution_count": 3,
   "metadata": {
    "_cell_guid": "79c7e3d0-c299-4dcb-8224-4455121ee9b0",
    "_uuid": "d629ff2d2480ee46fbb7e2d37f6b5fab8052498a",
    "colab": {},
    "colab_type": "code",
    "id": "oyGfxL3eVp9-"
   },
   "outputs": [
    {
     "data": {
      "text/html": [
       "<div>\n",
       "<style scoped>\n",
       "    .dataframe tbody tr th:only-of-type {\n",
       "        vertical-align: middle;\n",
       "    }\n",
       "\n",
       "    .dataframe tbody tr th {\n",
       "        vertical-align: top;\n",
       "    }\n",
       "\n",
       "    .dataframe thead th {\n",
       "        text-align: right;\n",
       "    }\n",
       "</style>\n",
       "<table border=\"1\" class=\"dataframe\">\n",
       "  <thead>\n",
       "    <tr style=\"text-align: right;\">\n",
       "      <th></th>\n",
       "      <th>imdb_id</th>\n",
       "      <th>budget</th>\n",
       "      <th>revenue</th>\n",
       "      <th>original_title</th>\n",
       "      <th>cast</th>\n",
       "      <th>director</th>\n",
       "      <th>tagline</th>\n",
       "      <th>overview</th>\n",
       "      <th>runtime</th>\n",
       "      <th>genres</th>\n",
       "      <th>production_companies</th>\n",
       "      <th>release_date</th>\n",
       "      <th>vote_average</th>\n",
       "      <th>release_year</th>\n",
       "    </tr>\n",
       "  </thead>\n",
       "  <tbody>\n",
       "    <tr>\n",
       "      <th>0</th>\n",
       "      <td>tt0369610</td>\n",
       "      <td>150000000</td>\n",
       "      <td>1513528810</td>\n",
       "      <td>Jurassic World</td>\n",
       "      <td>Chris Pratt|Bryce Dallas Howard|Irrfan Khan|Vi...</td>\n",
       "      <td>Colin Trevorrow</td>\n",
       "      <td>The park is open.</td>\n",
       "      <td>Twenty-two years after the events of Jurassic ...</td>\n",
       "      <td>124</td>\n",
       "      <td>Action|Adventure|Science Fiction|Thriller</td>\n",
       "      <td>Universal Studios|Amblin Entertainment|Legenda...</td>\n",
       "      <td>6/9/2015</td>\n",
       "      <td>6.5</td>\n",
       "      <td>2015</td>\n",
       "    </tr>\n",
       "    <tr>\n",
       "      <th>1</th>\n",
       "      <td>tt1392190</td>\n",
       "      <td>150000000</td>\n",
       "      <td>378436354</td>\n",
       "      <td>Mad Max: Fury Road</td>\n",
       "      <td>Tom Hardy|Charlize Theron|Hugh Keays-Byrne|Nic...</td>\n",
       "      <td>George Miller</td>\n",
       "      <td>What a Lovely Day.</td>\n",
       "      <td>An apocalyptic story set in the furthest reach...</td>\n",
       "      <td>120</td>\n",
       "      <td>Action|Adventure|Science Fiction|Thriller</td>\n",
       "      <td>Village Roadshow Pictures|Kennedy Miller Produ...</td>\n",
       "      <td>5/13/2015</td>\n",
       "      <td>7.1</td>\n",
       "      <td>2015</td>\n",
       "    </tr>\n",
       "    <tr>\n",
       "      <th>2</th>\n",
       "      <td>tt2908446</td>\n",
       "      <td>110000000</td>\n",
       "      <td>295238201</td>\n",
       "      <td>Insurgent</td>\n",
       "      <td>Shailene Woodley|Theo James|Kate Winslet|Ansel...</td>\n",
       "      <td>Robert Schwentke</td>\n",
       "      <td>One Choice Can Destroy You</td>\n",
       "      <td>Beatrice Prior must confront her inner demons ...</td>\n",
       "      <td>119</td>\n",
       "      <td>Adventure|Science Fiction|Thriller</td>\n",
       "      <td>Summit Entertainment|Mandeville Films|Red Wago...</td>\n",
       "      <td>3/18/2015</td>\n",
       "      <td>6.3</td>\n",
       "      <td>2015</td>\n",
       "    </tr>\n",
       "    <tr>\n",
       "      <th>3</th>\n",
       "      <td>tt2488496</td>\n",
       "      <td>200000000</td>\n",
       "      <td>2068178225</td>\n",
       "      <td>Star Wars: The Force Awakens</td>\n",
       "      <td>Harrison Ford|Mark Hamill|Carrie Fisher|Adam D...</td>\n",
       "      <td>J.J. Abrams</td>\n",
       "      <td>Every generation has a story.</td>\n",
       "      <td>Thirty years after defeating the Galactic Empi...</td>\n",
       "      <td>136</td>\n",
       "      <td>Action|Adventure|Science Fiction|Fantasy</td>\n",
       "      <td>Lucasfilm|Truenorth Productions|Bad Robot</td>\n",
       "      <td>12/15/2015</td>\n",
       "      <td>7.5</td>\n",
       "      <td>2015</td>\n",
       "    </tr>\n",
       "    <tr>\n",
       "      <th>4</th>\n",
       "      <td>tt2820852</td>\n",
       "      <td>190000000</td>\n",
       "      <td>1506249360</td>\n",
       "      <td>Furious 7</td>\n",
       "      <td>Vin Diesel|Paul Walker|Jason Statham|Michelle ...</td>\n",
       "      <td>James Wan</td>\n",
       "      <td>Vengeance Hits Home</td>\n",
       "      <td>Deckard Shaw seeks revenge against Dominic Tor...</td>\n",
       "      <td>137</td>\n",
       "      <td>Action|Crime|Thriller</td>\n",
       "      <td>Universal Pictures|Original Film|Media Rights ...</td>\n",
       "      <td>4/1/2015</td>\n",
       "      <td>7.3</td>\n",
       "      <td>2015</td>\n",
       "    </tr>\n",
       "  </tbody>\n",
       "</table>\n",
       "</div>"
      ],
      "text/plain": [
       "     imdb_id     budget     revenue                original_title  \\\n",
       "0  tt0369610  150000000  1513528810                Jurassic World   \n",
       "1  tt1392190  150000000   378436354            Mad Max: Fury Road   \n",
       "2  tt2908446  110000000   295238201                     Insurgent   \n",
       "3  tt2488496  200000000  2068178225  Star Wars: The Force Awakens   \n",
       "4  tt2820852  190000000  1506249360                     Furious 7   \n",
       "\n",
       "                                                cast          director  \\\n",
       "0  Chris Pratt|Bryce Dallas Howard|Irrfan Khan|Vi...   Colin Trevorrow   \n",
       "1  Tom Hardy|Charlize Theron|Hugh Keays-Byrne|Nic...     George Miller   \n",
       "2  Shailene Woodley|Theo James|Kate Winslet|Ansel...  Robert Schwentke   \n",
       "3  Harrison Ford|Mark Hamill|Carrie Fisher|Adam D...       J.J. Abrams   \n",
       "4  Vin Diesel|Paul Walker|Jason Statham|Michelle ...         James Wan   \n",
       "\n",
       "                         tagline  \\\n",
       "0              The park is open.   \n",
       "1             What a Lovely Day.   \n",
       "2     One Choice Can Destroy You   \n",
       "3  Every generation has a story.   \n",
       "4            Vengeance Hits Home   \n",
       "\n",
       "                                            overview  runtime  \\\n",
       "0  Twenty-two years after the events of Jurassic ...      124   \n",
       "1  An apocalyptic story set in the furthest reach...      120   \n",
       "2  Beatrice Prior must confront her inner demons ...      119   \n",
       "3  Thirty years after defeating the Galactic Empi...      136   \n",
       "4  Deckard Shaw seeks revenge against Dominic Tor...      137   \n",
       "\n",
       "                                      genres  \\\n",
       "0  Action|Adventure|Science Fiction|Thriller   \n",
       "1  Action|Adventure|Science Fiction|Thriller   \n",
       "2         Adventure|Science Fiction|Thriller   \n",
       "3   Action|Adventure|Science Fiction|Fantasy   \n",
       "4                      Action|Crime|Thriller   \n",
       "\n",
       "                                production_companies release_date  \\\n",
       "0  Universal Studios|Amblin Entertainment|Legenda...     6/9/2015   \n",
       "1  Village Roadshow Pictures|Kennedy Miller Produ...    5/13/2015   \n",
       "2  Summit Entertainment|Mandeville Films|Red Wago...    3/18/2015   \n",
       "3          Lucasfilm|Truenorth Productions|Bad Robot   12/15/2015   \n",
       "4  Universal Pictures|Original Film|Media Rights ...     4/1/2015   \n",
       "\n",
       "   vote_average  release_year  \n",
       "0           6.5          2015  \n",
       "1           7.1          2015  \n",
       "2           6.3          2015  \n",
       "3           7.5          2015  \n",
       "4           7.3          2015  "
      ]
     },
     "metadata": {},
     "output_type": "display_data"
    }
   ],
   "source": [
    "data = pd.read_csv('movie_bd_v5.csv')\n",
    "display(data.head())"
   ]
  },
  {
   "cell_type": "code",
   "execution_count": 4,
   "metadata": {
    "colab": {},
    "colab_type": "code",
    "id": "CoYUnagMVp-C"
   },
   "outputs": [
    {
     "name": "stdout",
     "output_type": "stream",
     "text": [
      "             budget       revenue      runtime  vote_average  release_year\n",
      "count  1.889000e+03  1.889000e+03  1889.000000   1889.000000   1889.000000\n",
      "mean   5.431083e+07  1.553653e+08   109.658549      6.140762   2007.860773\n",
      "std    4.858721e+07  2.146698e+08    18.017041      0.764763      4.468841\n",
      "min    5.000000e+06  2.033165e+06    63.000000      3.300000   2000.000000\n",
      "25%    2.000000e+07  3.456058e+07    97.000000      5.600000   2004.000000\n",
      "50%    3.800000e+07  8.361541e+07   107.000000      6.100000   2008.000000\n",
      "75%    7.200000e+07  1.782626e+08   120.000000      6.600000   2012.000000\n",
      "max    3.800000e+08  2.781506e+09   214.000000      8.100000   2015.000000\n",
      "<class 'pandas.core.frame.DataFrame'>\n",
      "RangeIndex: 1889 entries, 0 to 1888\n",
      "Data columns (total 14 columns):\n",
      " #   Column                Non-Null Count  Dtype  \n",
      "---  ------                --------------  -----  \n",
      " 0   imdb_id               1889 non-null   object \n",
      " 1   budget                1889 non-null   int64  \n",
      " 2   revenue               1889 non-null   int64  \n",
      " 3   original_title        1889 non-null   object \n",
      " 4   cast                  1889 non-null   object \n",
      " 5   director              1889 non-null   object \n",
      " 6   tagline               1889 non-null   object \n",
      " 7   overview              1889 non-null   object \n",
      " 8   runtime               1889 non-null   int64  \n",
      " 9   genres                1889 non-null   object \n",
      " 10  production_companies  1889 non-null   object \n",
      " 11  release_date          1889 non-null   object \n",
      " 12  vote_average          1889 non-null   float64\n",
      " 13  release_year          1889 non-null   int64  \n",
      "dtypes: float64(1), int64(4), object(9)\n",
      "memory usage: 206.7+ KB\n",
      "None\n"
     ]
    }
   ],
   "source": [
    "print(data.describe())\n",
    "print(data.info())"
   ]
  },
  {
   "cell_type": "markdown",
   "metadata": {
    "colab_type": "text",
    "id": "DTIt7ezGVp-G"
   },
   "source": [
    "# Предобработка"
   ]
  },
  {
   "cell_type": "code",
   "execution_count": 5,
   "metadata": {
    "colab": {},
    "colab_type": "code",
    "id": "jNb40DwKVp-H"
   },
   "outputs": [],
   "source": [
    "answers = {} # создадим словарь для ответов\n",
    "# Добавим столбец с показателем рентабельности фильмов (profit = revenue - budget)\n",
    "data['profit'] = data['revenue']-data['budget']\n",
    "# Добавим столбец с номером месяца, в который фильм был выпущен в прокат\n",
    "data.release_date = data.release_date.apply(lambda x:x.split('/')) # для этого убераем разделитель / из поля release_date\n",
    "data['month'] = data.release_date.apply(lambda x:x[0]) # в новое month поле добавляем первый элемент поля release_date"
   ]
  },
  {
   "cell_type": "markdown",
   "metadata": {
    "colab_type": "text",
    "id": "YxZaH-nPVp-L"
   },
   "source": [
    "# 1. У какого фильма из списка самый большой бюджет?"
   ]
  },
  {
   "cell_type": "code",
   "execution_count": 6,
   "metadata": {
    "colab": {},
    "colab_type": "code",
    "id": "uVnXAY5RVp-O"
   },
   "outputs": [
    {
     "name": "stdout",
     "output_type": "stream",
     "text": [
      "723    tt1298650\n",
      "Name: imdb_id, dtype: object\n",
      "723    Pirates of the Caribbean: On Stranger Tides\n",
      "Name: original_title, dtype: object\n"
     ]
    }
   ],
   "source": [
    "data1 = data.copy()\n",
    "print(data1.loc[data1.budget==data1.budget.max()].imdb_id) # Идентификатор фильма с самым большим бюджетом\n",
    "print(data1.loc[data1.budget==data1.budget.max()].original_title) # Наименование фильма с самым большим бюджетом"
   ]
  },
  {
   "cell_type": "code",
   "execution_count": 7,
   "metadata": {
    "colab": {},
    "colab_type": "code",
    "id": "dZwb3m28Vp-S"
   },
   "outputs": [],
   "source": [
    "answers['1'] = 'Pirates of the Caribbean: On Stranger Tides (tt1298650)' # + с первой попытки"
   ]
  },
  {
   "cell_type": "markdown",
   "metadata": {
    "colab_type": "text",
    "id": "FNRbbI3vVp-c"
   },
   "source": [
    "# 2. Какой из фильмов самый длительный (в минутах)?"
   ]
  },
  {
   "cell_type": "code",
   "execution_count": 8,
   "metadata": {
    "colab": {},
    "colab_type": "code",
    "id": "vHAoEXNTVp-d"
   },
   "outputs": [
    {
     "name": "stdout",
     "output_type": "stream",
     "text": [
      "1157    tt0279111\n",
      "Name: imdb_id, dtype: object\n",
      "1157    Gods and Generals\n",
      "Name: original_title, dtype: object\n"
     ]
    }
   ],
   "source": [
    "data2 = data.copy()\n",
    "print(data2.loc[data2.runtime==data2.runtime.max()].imdb_id) # Идентификатор самого длительного фильма\n",
    "print(data2.loc[data2.runtime==data2.runtime.max()].original_title) # Наименование самого длительного фильма"
   ]
  },
  {
   "cell_type": "code",
   "execution_count": 9,
   "metadata": {
    "colab": {},
    "colab_type": "code",
    "id": "ot-VX2XrVp-g"
   },
   "outputs": [],
   "source": [
    "answers['2'] = 'Gods and Generals (tt0279111)'  # + с первой попытки"
   ]
  },
  {
   "cell_type": "markdown",
   "metadata": {
    "colab_type": "text",
    "id": "bapLlpW8Vp-k"
   },
   "source": [
    "# 3. Какой из фильмов самый короткий (в минутах)?\n",
    "\n",
    "\n",
    "\n"
   ]
  },
  {
   "cell_type": "code",
   "execution_count": 10,
   "metadata": {
    "colab": {},
    "colab_type": "code",
    "id": "YBxaSHuAVp-l"
   },
   "outputs": [
    {
     "name": "stdout",
     "output_type": "stream",
     "text": [
      "768    tt1449283\n",
      "Name: imdb_id, dtype: object\n",
      "768    Winnie the Pooh\n",
      "Name: original_title, dtype: object\n"
     ]
    }
   ],
   "source": [
    "data3 = data.copy()\n",
    "print(data3.loc[data3.runtime==data3.runtime.min()].imdb_id) # Идентификатор самого короткого фильма\n",
    "print(data3.loc[data3.runtime==data3.runtime.min()].original_title) # Наименование самого короткого фильма"
   ]
  },
  {
   "cell_type": "code",
   "execution_count": 11,
   "metadata": {},
   "outputs": [],
   "source": [
    "answers['3'] = 'Winnie the Pooh (tt1449283)'  # + с первой попытки"
   ]
  },
  {
   "cell_type": "markdown",
   "metadata": {
    "colab_type": "text",
    "id": "TfQbxbfNVp-p"
   },
   "source": [
    "# 4. Какова средняя длительность фильмов?\n"
   ]
  },
  {
   "cell_type": "code",
   "execution_count": 12,
   "metadata": {
    "colab": {},
    "colab_type": "code",
    "id": "5K6dKZYVVp-q"
   },
   "outputs": [
    {
     "name": "stdout",
     "output_type": "stream",
     "text": [
      "110\n"
     ]
    }
   ],
   "source": [
    "data4 = data.copy()\n",
    "answers['4'] = round(data4.runtime.mean()) # Вычисление средней длительности фильмов\n",
    "print(answers['4'])"
   ]
  },
  {
   "cell_type": "markdown",
   "metadata": {
    "colab_type": "text",
    "id": "r5TvbnT_Vp-u"
   },
   "source": [
    "# 5. Каково медианное значение длительности фильмов? "
   ]
  },
  {
   "cell_type": "code",
   "execution_count": 13,
   "metadata": {
    "colab": {},
    "colab_type": "code",
    "id": "iBROplKnVp-v"
   },
   "outputs": [
    {
     "name": "stdout",
     "output_type": "stream",
     "text": [
      "107.0\n"
     ]
    }
   ],
   "source": [
    "data5 = data.copy()\n",
    "answers['5'] = data5.runtime.median() # Вычисление медианной длительности фильмов\n",
    "print(answers['5'])"
   ]
  },
  {
   "cell_type": "markdown",
   "metadata": {
    "colab_type": "text",
    "id": "39P-deDSVp-y"
   },
   "source": [
    "# 6. Какой самый прибыльный фильм?\n",
    "#### Внимание! Здесь и далее под «прибылью» или «убытками» понимается разность между сборами и бюджетом фильма. (прибыль = сборы - бюджет) в нашем датасете это будет (profit = revenue - budget) "
   ]
  },
  {
   "cell_type": "code",
   "execution_count": 14,
   "metadata": {
    "colab": {},
    "colab_type": "code",
    "id": "UYZh4T9WVp-y"
   },
   "outputs": [
    {
     "name": "stdout",
     "output_type": "stream",
     "text": [
      "239    Avatar\n",
      "Name: original_title, dtype: object\n",
      "239    tt0499549\n",
      "Name: imdb_id, dtype: object\n"
     ]
    }
   ],
   "source": [
    "data6 = data.copy()\n",
    "print(data6.loc[data6.profit==data6.profit.max()].original_title)  # Определяем самый прибыльный фильм\n",
    "print(data6.loc[data6.profit==data6.profit.max()].imdb_id)         # Определяем идентификатор самого прибыльного фильма"
   ]
  },
  {
   "cell_type": "code",
   "execution_count": 15,
   "metadata": {},
   "outputs": [],
   "source": [
    "answers['6'] = 'Avatar (tt0499549)'   # + с первой попытки"
   ]
  },
  {
   "cell_type": "markdown",
   "metadata": {
    "colab_type": "text",
    "id": "M99JmIX4Vp-2"
   },
   "source": [
    "# 7. Какой фильм самый убыточный? "
   ]
  },
  {
   "cell_type": "code",
   "execution_count": 16,
   "metadata": {
    "colab": {},
    "colab_type": "code",
    "id": "w-D2m4XPVp-3"
   },
   "outputs": [
    {
     "name": "stdout",
     "output_type": "stream",
     "text": [
      "1245    The Lone Ranger\n",
      "Name: original_title, dtype: object\n",
      "1245    tt1210819\n",
      "Name: imdb_id, dtype: object\n"
     ]
    }
   ],
   "source": [
    "data7 = data.copy()\n",
    "print(data7.loc[data7.profit==data7.profit.min()].original_title)  # Определяем самый убыточный фильм\n",
    "print(data7.loc[data7.profit==data7.profit.min()].imdb_id)         # Определяем идентификатор самого убыточного фильма"
   ]
  },
  {
   "cell_type": "code",
   "execution_count": 17,
   "metadata": {},
   "outputs": [],
   "source": [
    "answers['7'] = 'The Lone Ranger (tt1210819)'   # + с первой попытки"
   ]
  },
  {
   "cell_type": "markdown",
   "metadata": {
    "colab_type": "text",
    "id": "wEOM5ERVVp-6"
   },
   "source": [
    "# 8. У скольких фильмов из датасета объем сборов оказался выше бюджета?"
   ]
  },
  {
   "cell_type": "code",
   "execution_count": 18,
   "metadata": {
    "colab": {},
    "colab_type": "code",
    "id": "y00_7HD6Vp-7"
   },
   "outputs": [
    {
     "name": "stdout",
     "output_type": "stream",
     "text": [
      "1478\n"
     ]
    }
   ],
   "source": [
    "data8 = data.copy()\n",
    "answers['8'] = len(data8[data8.profit>0].profit)   # Определяем количество рентабельных фильмов\n",
    "print(answers['8'])"
   ]
  },
  {
   "cell_type": "markdown",
   "metadata": {
    "colab_type": "text",
    "id": "xhpspA9KVp_A"
   },
   "source": [
    "# 9. Какой фильм оказался самым кассовым в 2008 году?"
   ]
  },
  {
   "cell_type": "code",
   "execution_count": 19,
   "metadata": {
    "colab": {},
    "colab_type": "code",
    "id": "MoUyQr9RVp_B"
   },
   "outputs": [
    {
     "name": "stdout",
     "output_type": "stream",
     "text": [
      "599    The Dark Knight\n",
      "Name: original_title, dtype: object\n",
      "599    tt0468569\n",
      "Name: imdb_id, dtype: object\n"
     ]
    }
   ],
   "source": [
    "data9 = data.copy()\n",
    "data_2008=data9[data9.release_year==2008]   # Формируем датафрейм из фильмов 2008 года выпуска\n",
    "print(data_2008[data_2008.profit==data_2008.profit.max()].original_title) #  Определяем название и идентификатор \n",
    "print(data_2008[data_2008.profit==data_2008.profit.max()].imdb_id)        #  самого прибыльного фильма 2008 года"
   ]
  },
  {
   "cell_type": "code",
   "execution_count": 20,
   "metadata": {},
   "outputs": [],
   "source": [
    "answers['9'] = 'The Dark Knight (tt0468569)'   # + с первой попытки"
   ]
  },
  {
   "cell_type": "markdown",
   "metadata": {
    "colab_type": "text",
    "id": "Zi4hDKidVp_F"
   },
   "source": [
    "# 10. Самый убыточный фильм за период с 2012 по 2014 г. (включительно)?\n"
   ]
  },
  {
   "cell_type": "code",
   "execution_count": 21,
   "metadata": {
    "colab": {},
    "colab_type": "code",
    "id": "XqyRmufJVp_F"
   },
   "outputs": [
    {
     "name": "stdout",
     "output_type": "stream",
     "text": [
      "1245    The Lone Ranger\n",
      "Name: original_title, dtype: object\n",
      "1245    tt1210819\n",
      "Name: imdb_id, dtype: object\n"
     ]
    }
   ],
   "source": [
    "data10 = data.copy()\n",
    "data_p1=data10[(data10.release_year>=2012)&(data10.release_year<=2014)]  # Формируем датафрейм из фильмов 2012-2014 годов \n",
    "print(data_p1[data_p1.profit==data_p1.profit.min()].original_title) #  Определяем название и идентификатор \n",
    "print(data_p1[data_p1.profit==data_p1.profit.min()].imdb_id)        #  самого убыточного фильма периода"
   ]
  },
  {
   "cell_type": "code",
   "execution_count": 22,
   "metadata": {},
   "outputs": [],
   "source": [
    "answers['10'] = 'The Lone Ranger (tt1210819)'   # + с первой попытки"
   ]
  },
  {
   "cell_type": "markdown",
   "metadata": {
    "colab_type": "text",
    "id": "EA7Sa9dkVp_I"
   },
   "source": [
    "# 11. Какого жанра фильмов больше всего?"
   ]
  },
  {
   "cell_type": "code",
   "execution_count": 23,
   "metadata": {
    "colab": {},
    "colab_type": "code",
    "id": "zsJAwJ8QVp_J"
   },
   "outputs": [
    {
     "data": {
      "text/plain": [
       "Drama              782\n",
       "Comedy             683\n",
       "Thriller           596\n",
       "Action             582\n",
       "Adventure          415\n",
       "Crime              315\n",
       "Romance            308\n",
       "Family             260\n",
       "Science Fiction    248\n",
       "Fantasy            222\n",
       "Horror             176\n",
       "Mystery            168\n",
       "Animation          139\n",
       "Music               64\n",
       "History             62\n",
       "War                 58\n",
       "Western             19\n",
       "Documentary          8\n",
       "Foreign              2\n",
       "Name: genres, dtype: int64"
      ]
     },
     "metadata": {},
     "output_type": "display_data"
    }
   ],
   "source": [
    "data11 = data.copy()\n",
    "# Разделяем лямбда функцией перечень жанров в одной строке датафрейма для корректного подсчета. \n",
    "# Соединяем датафрейм, в котором каждая строка содержит только один вид жанра.\n",
    "# Считаем число упоминаний каждого жанра.\n",
    "display(data11.genres.apply(lambda x:x.split(sep = '|')).explode().value_counts())"
   ]
  },
  {
   "cell_type": "code",
   "execution_count": 24,
   "metadata": {
    "colab": {},
    "colab_type": "code",
    "id": "otO3SbrSVp_N"
   },
   "outputs": [],
   "source": [
    "answers['11']='Drama'"
   ]
  },
  {
   "cell_type": "markdown",
   "metadata": {
    "colab_type": "text",
    "id": "T9_bPWpkVp_Q"
   },
   "source": [
    "# 12. Фильмы какого жанра чаще всего становятся прибыльными? "
   ]
  },
  {
   "cell_type": "code",
   "execution_count": 25,
   "metadata": {
    "colab": {},
    "colab_type": "code",
    "id": "Tmt8MaK1Vp_R"
   },
   "outputs": [
    {
     "data": {
      "text/plain": [
       "Drama              560\n",
       "Comedy             551\n",
       "Thriller           446\n",
       "Action             444\n",
       "Adventure          337\n",
       "Romance            242\n",
       "Crime              231\n",
       "Family             226\n",
       "Science Fiction    195\n",
       "Fantasy            188\n",
       "Horror             150\n",
       "Animation          120\n",
       "Mystery            119\n",
       "Music               47\n",
       "History             46\n",
       "War                 41\n",
       "Western             12\n",
       "Documentary          7\n",
       "Name: genres, dtype: int64"
      ]
     },
     "metadata": {},
     "output_type": "display_data"
    }
   ],
   "source": [
    "data12 = data.copy()\n",
    "# Формируем датафрейм только с прибыльными фильмами.\n",
    "# Разделяем лямбда функцией перечень жанров в одной строке датафрейма для корректного подсчета. \n",
    "# Соединяем датафрейм, в котором каждая строка содержит только один вид жанра. Считаем число упоминаний каждого жанра.\n",
    "display(data12[data12.profit > 0].genres.apply(lambda x:x.split(sep = '|')).explode().value_counts())"
   ]
  },
  {
   "cell_type": "code",
   "execution_count": 26,
   "metadata": {},
   "outputs": [],
   "source": [
    "answers['12']='Drama'"
   ]
  },
  {
   "cell_type": "markdown",
   "metadata": {
    "colab_type": "text",
    "id": "0F23bgsDVp_U"
   },
   "source": [
    "# 13. У какого режиссера самые большие суммарные кассовые сборы?"
   ]
  },
  {
   "cell_type": "code",
   "execution_count": 27,
   "metadata": {
    "colab": {},
    "colab_type": "code",
    "id": "K6Z3J8ygVp_X"
   },
   "outputs": [
    {
     "data": {
      "text/html": [
       "<div>\n",
       "<style scoped>\n",
       "    .dataframe tbody tr th:only-of-type {\n",
       "        vertical-align: middle;\n",
       "    }\n",
       "\n",
       "    .dataframe tbody tr th {\n",
       "        vertical-align: top;\n",
       "    }\n",
       "\n",
       "    .dataframe thead th {\n",
       "        text-align: right;\n",
       "    }\n",
       "</style>\n",
       "<table border=\"1\" class=\"dataframe\">\n",
       "  <thead>\n",
       "    <tr style=\"text-align: right;\">\n",
       "      <th></th>\n",
       "      <th>budget</th>\n",
       "      <th>revenue</th>\n",
       "      <th>runtime</th>\n",
       "      <th>vote_average</th>\n",
       "      <th>release_year</th>\n",
       "      <th>profit</th>\n",
       "    </tr>\n",
       "    <tr>\n",
       "      <th>director</th>\n",
       "      <th></th>\n",
       "      <th></th>\n",
       "      <th></th>\n",
       "      <th></th>\n",
       "      <th></th>\n",
       "      <th></th>\n",
       "    </tr>\n",
       "  </thead>\n",
       "  <tbody>\n",
       "    <tr>\n",
       "      <th>Peter Jackson</th>\n",
       "      <td>1288000000</td>\n",
       "      <td>6490593685</td>\n",
       "      <td>1355</td>\n",
       "      <td>58.1</td>\n",
       "      <td>16059</td>\n",
       "      <td>5202593685</td>\n",
       "    </tr>\n",
       "  </tbody>\n",
       "</table>\n",
       "</div>"
      ],
      "text/plain": [
       "                   budget     revenue  runtime  vote_average  release_year  \\\n",
       "director                                                                     \n",
       "Peter Jackson  1288000000  6490593685     1355          58.1         16059   \n",
       "\n",
       "                   profit  \n",
       "director                   \n",
       "Peter Jackson  5202593685  "
      ]
     },
     "metadata": {},
     "output_type": "display_data"
    }
   ],
   "source": [
    "data13 = data.copy()\n",
    "dir=data13.groupby(['director']).sum()  # Группируем датафрейм по полю режиссер (director) с функцией суммирования\n",
    "display(dir.loc[dir.revenue==dir.revenue.max()])  # Определяем запись с максимальным кассовым сбором"
   ]
  },
  {
   "cell_type": "code",
   "execution_count": 28,
   "metadata": {},
   "outputs": [],
   "source": [
    "answers['13'] = 'Peter Jackson'"
   ]
  },
  {
   "cell_type": "markdown",
   "metadata": {
    "colab_type": "text",
    "id": "PsYC9FgRVp_a"
   },
   "source": [
    "# 14. Какой режисер снял больше всего фильмов в стиле Action?"
   ]
  },
  {
   "cell_type": "code",
   "execution_count": 29,
   "metadata": {
    "colab": {},
    "colab_type": "code",
    "id": "wd2M-wHeVp_b"
   },
   "outputs": [
    {
     "data": {
      "text/plain": [
       "[('Robert Rodriguez', 9),\n",
       " ('Michael Bay', 7),\n",
       " ('Paul W.S. Anderson', 7),\n",
       " ('Antoine Fuqua', 6),\n",
       " ('Ridley Scott', 6)]"
      ]
     },
     "metadata": {},
     "output_type": "display_data"
    }
   ],
   "source": [
    "import collections\n",
    "data14 = data.copy()\n",
    "# Формируем датафрейм с фильмами жанра Action.\n",
    "data_action = data14[data14.genres.str.contains('Action', na = False)] \n",
    "# Разделяем режиссеров для корректного подсчета (есть фильмы, у которых более одного режиссера).\n",
    "# Определяем число упоминаний каждого режиссера, сортируем список по частоте упоминаний.\n",
    "display(collections.Counter(data_action['director'].str.cat(sep = '|').split('|')).most_common(5))"
   ]
  },
  {
   "cell_type": "code",
   "execution_count": 30,
   "metadata": {},
   "outputs": [],
   "source": [
    "answers['14'] = 'Robert Rodriguez'"
   ]
  },
  {
   "cell_type": "markdown",
   "metadata": {
    "colab_type": "text",
    "id": "PQ0KciD7Vp_f"
   },
   "source": [
    "# 15. Фильмы с каким актером принесли самые высокие кассовые сборы в 2012 году? "
   ]
  },
  {
   "cell_type": "code",
   "execution_count": 31,
   "metadata": {
    "colab": {},
    "colab_type": "code",
    "id": "aga62oeKVp_g"
   },
   "outputs": [
    {
     "data": {
      "text/plain": [
       "cast\n",
       "Chris Hemsworth      2027450773\n",
       "Denis Leary          1629460639\n",
       "Anne Hathaway        1522851057\n",
       "Chris Evans          1519557910\n",
       "Robert Downey Jr.    1519557910\n",
       "                        ...    \n",
       "Jason Bateman           3428048\n",
       "Danny Huston            2106557\n",
       "Sami Gayle              2106557\n",
       "Josh Lucas              2106557\n",
       "Nicolas Cage            2106557\n",
       "Name: revenue, Length: 466, dtype: int64"
      ]
     },
     "execution_count": 31,
     "metadata": {},
     "output_type": "execute_result"
    }
   ],
   "source": [
    "data15 = data.copy()\n",
    "data2012 = data15[data15.release_year == 2012].copy() # Формируем датафрейм из фильмов 2012 года выпуска.\n",
    "data2012['cast']=data2012['cast'].str.split('|') # Разделяем актеров для корректного подсчета.\n",
    "data_cast = data2012.explode('cast') # формируем датафрейм, у которого в каждой строке только один актер.\n",
    "# группируем датафрейм по актерам с функцией суммирования, сортируем по величене кассовых сборов.\n",
    "data_cast.groupby('cast').revenue.sum().sort_values(ascending=False)"
   ]
  },
  {
   "cell_type": "code",
   "execution_count": 32,
   "metadata": {},
   "outputs": [],
   "source": [
    "answers['15'] = 'Chris Hemsworth'"
   ]
  },
  {
   "cell_type": "markdown",
   "metadata": {
    "colab_type": "text",
    "id": "mWHyyL7QVp_j"
   },
   "source": [
    "# 16. Какой актер снялся в большем количестве высокобюджетных фильмов?"
   ]
  },
  {
   "cell_type": "code",
   "execution_count": 33,
   "metadata": {
    "colab": {},
    "colab_type": "code",
    "id": "qQtmHKTFVp_k"
   },
   "outputs": [
    {
     "data": {
      "text/plain": [
       "Matt Damon           18\n",
       "Adam Sandler         17\n",
       "Angelina Jolie       16\n",
       "Samuel L. Jackson    15\n",
       "Tom Cruise           15\n",
       "                     ..\n",
       "Rosemary Harris       1\n",
       "Emily Barclay         1\n",
       "Faith Ford            1\n",
       "Cher                  1\n",
       "Matthew Lillard       1\n",
       "Name: cast, Length: 1505, dtype: int64"
      ]
     },
     "execution_count": 33,
     "metadata": {},
     "output_type": "execute_result"
    }
   ],
   "source": [
    "data16 = data.copy()\n",
    "data16['cast']=data16['cast'].str.split('|') # Разделяем актеров для корректного подсчета.\n",
    "data_cast=data16.explode('cast') # формируем датафрейм, у которого в каждой строке только один актер.\n",
    "# формируем датафрейм из фильмов с бюджетом выше среднего, выводим столбец 'cast', отсортированный по частоте повторений\n",
    "data_cast.loc[data_cast['budget']> data_cast['budget'].mean()]['cast'].value_counts(ascending=False)"
   ]
  },
  {
   "cell_type": "code",
   "execution_count": 34,
   "metadata": {},
   "outputs": [],
   "source": [
    "answers['16'] = 'Matt Damon'"
   ]
  },
  {
   "cell_type": "markdown",
   "metadata": {
    "colab_type": "text",
    "id": "NIh6AaW5Vp_n"
   },
   "source": [
    "# 17. В фильмах какого жанра больше всего снимался Nicolas Cage? "
   ]
  },
  {
   "cell_type": "code",
   "execution_count": 35,
   "metadata": {
    "colab": {},
    "colab_type": "code",
    "id": "H74SJDIBVp_n"
   },
   "outputs": [
    {
     "name": "stdout",
     "output_type": "stream",
     "text": [
      "[('Action', 17)]\n"
     ]
    }
   ],
   "source": [
    "data17 = data.copy()\n",
    "# формируем датафрейм из фильмов с участие Николаса Кеджа\n",
    "data_nc=data17[data17.cast.str.contains('Nicolas Cage')]\n",
    "# в поле \"жанр\" убираем разделители, подсчитываем количество повторений жанров, выводим максимальное значение\n",
    "answers['17'] = Counter(data_nc.genres.str.split('|').sum()).most_common(1)\n",
    "print(answers['17'])"
   ]
  },
  {
   "cell_type": "markdown",
   "metadata": {
    "colab_type": "text",
    "id": "RqOmPRfWVp_q"
   },
   "source": [
    "# 18. Самый убыточный фильм от Paramount Pictures"
   ]
  },
  {
   "cell_type": "code",
   "execution_count": 36,
   "metadata": {
    "colab": {},
    "colab_type": "code",
    "id": "9E_B0Y96Vp_r"
   },
   "outputs": [
    {
     "data": {
      "text/html": [
       "<div>\n",
       "<style scoped>\n",
       "    .dataframe tbody tr th:only-of-type {\n",
       "        vertical-align: middle;\n",
       "    }\n",
       "\n",
       "    .dataframe tbody tr th {\n",
       "        vertical-align: top;\n",
       "    }\n",
       "\n",
       "    .dataframe thead th {\n",
       "        text-align: right;\n",
       "    }\n",
       "</style>\n",
       "<table border=\"1\" class=\"dataframe\">\n",
       "  <thead>\n",
       "    <tr style=\"text-align: right;\">\n",
       "      <th></th>\n",
       "      <th>budget</th>\n",
       "      <th>revenue</th>\n",
       "      <th>runtime</th>\n",
       "      <th>vote_average</th>\n",
       "      <th>release_year</th>\n",
       "      <th>profit</th>\n",
       "    </tr>\n",
       "    <tr>\n",
       "      <th>original_title</th>\n",
       "      <th></th>\n",
       "      <th></th>\n",
       "      <th></th>\n",
       "      <th></th>\n",
       "      <th></th>\n",
       "      <th></th>\n",
       "    </tr>\n",
       "  </thead>\n",
       "  <tbody>\n",
       "    <tr>\n",
       "      <th>K-19: The Widowmaker</th>\n",
       "      <td>100000000</td>\n",
       "      <td>35168966</td>\n",
       "      <td>138</td>\n",
       "      <td>6.0</td>\n",
       "      <td>2002</td>\n",
       "      <td>-64831034</td>\n",
       "    </tr>\n",
       "  </tbody>\n",
       "</table>\n",
       "</div>"
      ],
      "text/plain": [
       "                         budget   revenue  runtime  vote_average  \\\n",
       "original_title                                                     \n",
       "K-19: The Widowmaker  100000000  35168966      138           6.0   \n",
       "\n",
       "                      release_year    profit  \n",
       "original_title                                \n",
       "K-19: The Widowmaker          2002 -64831034  "
      ]
     },
     "metadata": {},
     "output_type": "display_data"
    }
   ],
   "source": [
    "data18 = data.copy()\n",
    "# Формируем датафрейм из фильмов компании Paramount Pictures\n",
    "data_pp = data18[data18['production_companies'].str.contains('Paramount Pictures')] \n",
    "# Группируем датафрейм по полю наименования фильма (release_year) с функцией суммирования\n",
    "df_title=data_pp.groupby(['original_title']).sum() \n",
    "# Выводим датафрейм, состоящий из одной строки с минимальным значением прибыли.\n",
    "display(df_title.loc[df_title.profit==df_title.profit.min()])"
   ]
  },
  {
   "cell_type": "code",
   "execution_count": 37,
   "metadata": {},
   "outputs": [],
   "source": [
    "answers['18'] = 'K-19: The Widowmaker'"
   ]
  },
  {
   "cell_type": "markdown",
   "metadata": {
    "colab_type": "text",
    "id": "vS8Ur6ddVp_u"
   },
   "source": [
    "# 19. Какой год стал самым успешным по суммарным кассовым сборам?"
   ]
  },
  {
   "cell_type": "code",
   "execution_count": 38,
   "metadata": {
    "colab": {},
    "colab_type": "code",
    "id": "Dnbt4GdIVp_v"
   },
   "outputs": [
    {
     "data": {
      "text/html": [
       "<div>\n",
       "<style scoped>\n",
       "    .dataframe tbody tr th:only-of-type {\n",
       "        vertical-align: middle;\n",
       "    }\n",
       "\n",
       "    .dataframe tbody tr th {\n",
       "        vertical-align: top;\n",
       "    }\n",
       "\n",
       "    .dataframe thead th {\n",
       "        text-align: right;\n",
       "    }\n",
       "</style>\n",
       "<table border=\"1\" class=\"dataframe\">\n",
       "  <thead>\n",
       "    <tr style=\"text-align: right;\">\n",
       "      <th></th>\n",
       "      <th>budget</th>\n",
       "      <th>revenue</th>\n",
       "      <th>runtime</th>\n",
       "      <th>vote_average</th>\n",
       "      <th>profit</th>\n",
       "    </tr>\n",
       "    <tr>\n",
       "      <th>release_year</th>\n",
       "      <th></th>\n",
       "      <th></th>\n",
       "      <th></th>\n",
       "      <th></th>\n",
       "      <th></th>\n",
       "    </tr>\n",
       "  </thead>\n",
       "  <tbody>\n",
       "    <tr>\n",
       "      <th>2015</th>\n",
       "      <td>6780630004</td>\n",
       "      <td>25449202382</td>\n",
       "      <td>13355</td>\n",
       "      <td>755.2</td>\n",
       "      <td>18668572378</td>\n",
       "    </tr>\n",
       "  </tbody>\n",
       "</table>\n",
       "</div>"
      ],
      "text/plain": [
       "                  budget      revenue  runtime  vote_average       profit\n",
       "release_year                                                             \n",
       "2015          6780630004  25449202382    13355         755.2  18668572378"
      ]
     },
     "metadata": {},
     "output_type": "display_data"
    }
   ],
   "source": [
    "data19 = data.copy()\n",
    "# Группируем датафрейм по полю год выпуска (release_year) с функцией суммирования\n",
    "df_year=data19.groupby(['release_year']).sum() \n",
    "# Выводим датафрейм, состоящий из одной строки с максимальным значением кассовых сборов.\n",
    "display(df_year.loc[df_year.revenue==df_year.revenue.max()])"
   ]
  },
  {
   "cell_type": "code",
   "execution_count": 39,
   "metadata": {},
   "outputs": [],
   "source": [
    "answers['19'] = 2015"
   ]
  },
  {
   "cell_type": "markdown",
   "metadata": {
    "colab_type": "text",
    "id": "JAzJh4QAVp_z"
   },
   "source": [
    "# 20. Какой самый прибыльный год для студии Warner Bros?"
   ]
  },
  {
   "cell_type": "code",
   "execution_count": 40,
   "metadata": {
    "colab": {},
    "colab_type": "code",
    "id": "wgVu02DEVp_0"
   },
   "outputs": [
    {
     "data": {
      "text/plain": [
       "release_year\n",
       "2014    2295464519\n",
       "Name: profit, dtype: int64"
      ]
     },
     "metadata": {},
     "output_type": "display_data"
    }
   ],
   "source": [
    "data20 = data.copy()\n",
    "# Формируем датафрейм из фильмов компании Warner Bros\n",
    "data_wb = data20[data20['production_companies'].str.contains('Warner Bros')].copy()\n",
    "# Группируем датафрейм по полю год выпуска (release_year) с функцией суммирования\n",
    "df_year=data_wb.groupby(['release_year']).sum() \n",
    "# Выводим поле прибыли датафрейма, состоящего из одной строки с максимальным значением прибыли.\n",
    "display(df_year.loc[df_year.profit==df_year.profit.max()].profit)"
   ]
  },
  {
   "cell_type": "code",
   "execution_count": 41,
   "metadata": {},
   "outputs": [],
   "source": [
    "answers['20'] = 2014"
   ]
  },
  {
   "cell_type": "markdown",
   "metadata": {
    "colab_type": "text",
    "id": "8Im1S2HRVp_4"
   },
   "source": [
    "# 21. В каком месяце за все годы суммарно вышло больше всего фильмов?"
   ]
  },
  {
   "cell_type": "code",
   "execution_count": 42,
   "metadata": {
    "colab": {},
    "colab_type": "code",
    "id": "lev6TH7gVp_4"
   },
   "outputs": [
    {
     "name": "stdout",
     "output_type": "stream",
     "text": [
      "[('9', 227)]\n"
     ]
    }
   ],
   "source": [
    "import collections\n",
    "data21=data.copy()\n",
    "# используя предварительно созданный столбец 'month', вычисляем количество выпущенных фильмов по месяцам\n",
    "# сохраняем ответ в словаре answers, выводим ответ на экран для самопроверки\n",
    "answers['21'] = collections.Counter(data21.month).most_common(1)\n",
    "print(answers['21'])"
   ]
  },
  {
   "cell_type": "markdown",
   "metadata": {
    "colab_type": "text",
    "id": "uAJsZ_NeVp_7"
   },
   "source": [
    "# 22. Сколько суммарно вышло фильмов летом? (за июнь, июль, август)"
   ]
  },
  {
   "cell_type": "code",
   "execution_count": 43,
   "metadata": {
    "colab": {},
    "colab_type": "code",
    "id": "Aa-hEREoVp_8"
   },
   "outputs": [
    {
     "name": "stdout",
     "output_type": "stream",
     "text": [
      "450\n"
     ]
    }
   ],
   "source": [
    "data22=data.copy()\n",
    "# используя предварительно созданный столбец 'month', формируем датафрейм из фильмов, выпущенных летом\n",
    "release_sommer = data22.loc[data22.month.isin(['6','7','8'])]\n",
    "# определяем длину (количество строк) нового датафрейма, результат сохраняем в словаре answers\n",
    "answers['22'] = len(release_sommer)\n",
    "print(answers['22'])"
   ]
  },
  {
   "cell_type": "markdown",
   "metadata": {
    "colab_type": "text",
    "id": "G94ppOY1VqAA"
   },
   "source": [
    "# 23. Для какого режиссера зима – самое продуктивное время года? "
   ]
  },
  {
   "cell_type": "code",
   "execution_count": 44,
   "metadata": {
    "colab": {},
    "colab_type": "code",
    "id": "RhNTsamuVqAB"
   },
   "outputs": [
    {
     "name": "stdout",
     "output_type": "stream",
     "text": [
      "[('Peter Jackson', 7)]\n"
     ]
    }
   ],
   "source": [
    "import collections\n",
    "data23=data.copy()\n",
    "# убираем разделитель / из поля director для корректного подсчета количества фильмов\n",
    "data23.director = data23.director.apply(lambda x:x.split('|'))\n",
    "# используя предварительно созданный столбец 'month', формируем датафрейм из фильмов, выпущенных зимой\n",
    "release_winter = data23.loc[data23.month.isin(['12','1','2'])]\n",
    "# считаем количество упоминаний режиссеров в фильмах \"зимнего\" датафрейма, результат сохраняем в словаре answers\n",
    "answers['23'] = collections.Counter(release_winter.director.explode()).most_common(1)\n",
    "print(answers['23'])"
   ]
  },
  {
   "cell_type": "markdown",
   "metadata": {
    "colab_type": "text",
    "id": "RBo0JVjVVqAF"
   },
   "source": [
    "# 24. Какая студия дает самые длинные названия своим фильмам по количеству символов?"
   ]
  },
  {
   "cell_type": "code",
   "execution_count": 45,
   "metadata": {
    "colab": {},
    "colab_type": "code",
    "id": "QRGS8L0iVqAG"
   },
   "outputs": [
    {
     "name": "stdout",
     "output_type": "stream",
     "text": [
      "                             budget      revenue  runtime  vote_average  \\\n",
      "list_prod_comp                                                            \n",
      "Four By Two Productions  18000000.0  261572744.0     82.0           6.4   \n",
      "\n",
      "                         release_year       profit  len_title  \n",
      "list_prod_comp                                                 \n",
      "Four By Two Productions        2006.0  243572744.0       83.0  \n"
     ]
    }
   ],
   "source": [
    "data24 = data.copy()\n",
    "# формируем столбец 'len_title' с количеством символов в названии фильмов\n",
    "data24['len_title'] = data24.original_title.apply(lambda x:len(x))\n",
    "# формируем столбец 'list_prod_comp', для этого убираем разделитель из поля 'production_companies'\n",
    "# и составляем датафрейм, в котором каждая строка содержит название только одного производителя\n",
    "data24['list_prod_comp'] = data24.production_companies.str.split('|')\n",
    "data24_2 = data24.explode('list_prod_comp')\n",
    "# Группируем датафрейм по полю 'list_prod_comp' с функцией подсчета средних значений\n",
    "data_prod_comp = data24_2.groupby(['list_prod_comp']).mean()\n",
    "# Выводим датафрейм, состоящий из одной строки с максимальным значением усредненной длины названий фильмов.\n",
    "print(data_prod_comp.loc[data_prod_comp.len_title == data_prod_comp.len_title.max()])"
   ]
  },
  {
   "cell_type": "code",
   "execution_count": 46,
   "metadata": {},
   "outputs": [],
   "source": [
    "answers['24'] = 'Four By Two Productions'"
   ]
  },
  {
   "cell_type": "markdown",
   "metadata": {
    "colab_type": "text",
    "id": "9G0hbvR7VqAK"
   },
   "source": [
    "# 25. Описание фильмов какой студии в среднем самые длинные по количеству слов?"
   ]
  },
  {
   "cell_type": "code",
   "execution_count": 47,
   "metadata": {},
   "outputs": [
    {
     "data": {
      "text/plain": [
       "list_prod_comp\n",
       "Midnight Picture Show    175.0\n",
       "Name: sum_words_overview, dtype: float64"
      ]
     },
     "execution_count": 47,
     "metadata": {},
     "output_type": "execute_result"
    }
   ],
   "source": [
    "data25 = data.copy()\n",
    "# формируем столбец 'sum_words_overview' с количеством слов в описании фильмов\n",
    "data25['sum_words_overview'] = data25.overview.apply(lambda x: len(x.split(' ')))\n",
    "# формируем столбец 'list_prod_comp', для этого убираем разделитель из поля 'production_companies'\n",
    "# и составляем датафрейм, в котором каждая строка содержит название только одного производителя\n",
    "data25['list_prod_comp'] = data25.production_companies.str.split('|')\n",
    "data25_2 = data25.explode('list_prod_comp')\n",
    "# Группируем датафрейм по полю 'list_prod_comp' с функцией подсчета средних значений и сортировкой по\n",
    "# количеству слов в описании от большего к меньшему, выводим первую строку нового датафрейма\n",
    "data25_2.groupby(['list_prod_comp'])['sum_words_overview'].mean().sort_values(ascending=False).head(1)"
   ]
  },
  {
   "cell_type": "code",
   "execution_count": 48,
   "metadata": {
    "colab": {},
    "colab_type": "code",
    "id": "Ge2GsLNxVqAK"
   },
   "outputs": [],
   "source": [
    "answers['25'] = 'Midnight Picture Show'"
   ]
  },
  {
   "cell_type": "markdown",
   "metadata": {
    "colab_type": "text",
    "id": "FJ1AFt90VqAP"
   },
   "source": [
    "# 26. Какие фильмы входят в 1 процент лучших по рейтингу? \n",
    "по vote_average"
   ]
  },
  {
   "cell_type": "code",
   "execution_count": 49,
   "metadata": {},
   "outputs": [
    {
     "data": {
      "text/html": [
       "<div>\n",
       "<style scoped>\n",
       "    .dataframe tbody tr th:only-of-type {\n",
       "        vertical-align: middle;\n",
       "    }\n",
       "\n",
       "    .dataframe tbody tr th {\n",
       "        vertical-align: top;\n",
       "    }\n",
       "\n",
       "    .dataframe thead th {\n",
       "        text-align: right;\n",
       "    }\n",
       "</style>\n",
       "<table border=\"1\" class=\"dataframe\">\n",
       "  <thead>\n",
       "    <tr style=\"text-align: right;\">\n",
       "      <th></th>\n",
       "      <th>original_title</th>\n",
       "      <th>vote_average</th>\n",
       "    </tr>\n",
       "  </thead>\n",
       "  <tbody>\n",
       "    <tr>\n",
       "      <th>1213</th>\n",
       "      <td>Dallas Buyers Club</td>\n",
       "      <td>7.8</td>\n",
       "    </tr>\n",
       "    <tr>\n",
       "      <th>283</th>\n",
       "      <td>Mr. Nobody</td>\n",
       "      <td>7.8</td>\n",
       "    </tr>\n",
       "    <tr>\n",
       "      <th>316</th>\n",
       "      <td>3 Idiots</td>\n",
       "      <td>7.8</td>\n",
       "    </tr>\n",
       "    <tr>\n",
       "      <th>1563</th>\n",
       "      <td>Eternal Sunshine of the Spotless Mind</td>\n",
       "      <td>7.8</td>\n",
       "    </tr>\n",
       "    <tr>\n",
       "      <th>1444</th>\n",
       "      <td>The Prestige</td>\n",
       "      <td>7.8</td>\n",
       "    </tr>\n",
       "    <tr>\n",
       "      <th>496</th>\n",
       "      <td>The Lord of the Rings: The Fellowship of the Ring</td>\n",
       "      <td>7.8</td>\n",
       "    </tr>\n",
       "    <tr>\n",
       "      <th>155</th>\n",
       "      <td>The Theory of Everything</td>\n",
       "      <td>7.8</td>\n",
       "    </tr>\n",
       "    <tr>\n",
       "      <th>1688</th>\n",
       "      <td>There Will Be Blood</td>\n",
       "      <td>7.8</td>\n",
       "    </tr>\n",
       "    <tr>\n",
       "      <th>863</th>\n",
       "      <td>The Lord of the Rings: The Two Towers</td>\n",
       "      <td>7.8</td>\n",
       "    </tr>\n",
       "    <tr>\n",
       "      <th>177</th>\n",
       "      <td>The Fault in Our Stars</td>\n",
       "      <td>7.8</td>\n",
       "    </tr>\n",
       "    <tr>\n",
       "      <th>124</th>\n",
       "      <td>Big Hero 6</td>\n",
       "      <td>7.8</td>\n",
       "    </tr>\n",
       "    <tr>\n",
       "      <th>28</th>\n",
       "      <td>Spotlight</td>\n",
       "      <td>7.8</td>\n",
       "    </tr>\n",
       "    <tr>\n",
       "      <th>1188</th>\n",
       "      <td>Her</td>\n",
       "      <td>7.8</td>\n",
       "    </tr>\n",
       "    <tr>\n",
       "      <th>1205</th>\n",
       "      <td>Prisoners</td>\n",
       "      <td>7.8</td>\n",
       "    </tr>\n",
       "    <tr>\n",
       "      <th>138</th>\n",
       "      <td>The Grand Budapest Hotel</td>\n",
       "      <td>7.9</td>\n",
       "    </tr>\n",
       "    <tr>\n",
       "      <th>370</th>\n",
       "      <td>Inception</td>\n",
       "      <td>7.9</td>\n",
       "    </tr>\n",
       "    <tr>\n",
       "      <th>1800</th>\n",
       "      <td>Memento</td>\n",
       "      <td>7.9</td>\n",
       "    </tr>\n",
       "    <tr>\n",
       "      <th>1081</th>\n",
       "      <td>The Lord of the Rings: The Return of the King</td>\n",
       "      <td>7.9</td>\n",
       "    </tr>\n",
       "    <tr>\n",
       "      <th>119</th>\n",
       "      <td>Guardians of the Galaxy</td>\n",
       "      <td>7.9</td>\n",
       "    </tr>\n",
       "    <tr>\n",
       "      <th>1191</th>\n",
       "      <td>12 Years a Slave</td>\n",
       "      <td>7.9</td>\n",
       "    </tr>\n",
       "    <tr>\n",
       "      <th>128</th>\n",
       "      <td>Gone Girl</td>\n",
       "      <td>7.9</td>\n",
       "    </tr>\n",
       "    <tr>\n",
       "      <th>1183</th>\n",
       "      <td>The Wolf of Wall Street</td>\n",
       "      <td>7.9</td>\n",
       "    </tr>\n",
       "    <tr>\n",
       "      <th>872</th>\n",
       "      <td>The Pianist</td>\n",
       "      <td>7.9</td>\n",
       "    </tr>\n",
       "    <tr>\n",
       "      <th>34</th>\n",
       "      <td>Room</td>\n",
       "      <td>8.0</td>\n",
       "    </tr>\n",
       "    <tr>\n",
       "      <th>9</th>\n",
       "      <td>Inside Out</td>\n",
       "      <td>8.0</td>\n",
       "    </tr>\n",
       "    <tr>\n",
       "      <th>125</th>\n",
       "      <td>The Imitation Game</td>\n",
       "      <td>8.0</td>\n",
       "    </tr>\n",
       "    <tr>\n",
       "      <th>118</th>\n",
       "      <td>Interstellar</td>\n",
       "      <td>8.0</td>\n",
       "    </tr>\n",
       "    <tr>\n",
       "      <th>599</th>\n",
       "      <td>The Dark Knight</td>\n",
       "      <td>8.1</td>\n",
       "    </tr>\n",
       "  </tbody>\n",
       "</table>\n",
       "</div>"
      ],
      "text/plain": [
       "                                         original_title  vote_average\n",
       "1213                                 Dallas Buyers Club           7.8\n",
       "283                                          Mr. Nobody           7.8\n",
       "316                                            3 Idiots           7.8\n",
       "1563              Eternal Sunshine of the Spotless Mind           7.8\n",
       "1444                                       The Prestige           7.8\n",
       "496   The Lord of the Rings: The Fellowship of the Ring           7.8\n",
       "155                            The Theory of Everything           7.8\n",
       "1688                                There Will Be Blood           7.8\n",
       "863               The Lord of the Rings: The Two Towers           7.8\n",
       "177                              The Fault in Our Stars           7.8\n",
       "124                                          Big Hero 6           7.8\n",
       "28                                            Spotlight           7.8\n",
       "1188                                                Her           7.8\n",
       "1205                                          Prisoners           7.8\n",
       "138                            The Grand Budapest Hotel           7.9\n",
       "370                                           Inception           7.9\n",
       "1800                                            Memento           7.9\n",
       "1081      The Lord of the Rings: The Return of the King           7.9\n",
       "119                             Guardians of the Galaxy           7.9\n",
       "1191                                   12 Years a Slave           7.9\n",
       "128                                           Gone Girl           7.9\n",
       "1183                            The Wolf of Wall Street           7.9\n",
       "872                                         The Pianist           7.9\n",
       "34                                                 Room           8.0\n",
       "9                                            Inside Out           8.0\n",
       "125                                  The Imitation Game           8.0\n",
       "118                                        Interstellar           8.0\n",
       "599                                     The Dark Knight           8.1"
      ]
     },
     "execution_count": 49,
     "metadata": {},
     "output_type": "execute_result"
    }
   ],
   "source": [
    "data26 = data.copy()\n",
    "# формируем датафрейм из столбцов названия и рейтинга фильмов, сортируем по рейтингу от лучшего к худшему\n",
    "data26_2 = data26.sort_values('vote_average', ascending=False)[['original_title', 'vote_average']]\n",
    "# выводим сотую часть лучших по рейтингу фильмов\n",
    "data26_2.query('vote_average >= vote_average.quantile(0.99)').sort_values('vote_average')"
   ]
  },
  {
   "cell_type": "code",
   "execution_count": 50,
   "metadata": {
    "colab": {},
    "colab_type": "code",
    "id": "8qmJVq4CVqAQ"
   },
   "outputs": [],
   "source": [
    "answers['26'] = 'Inside Out, The Dark Knight, 12 Years a Slave'"
   ]
  },
  {
   "cell_type": "markdown",
   "metadata": {
    "colab_type": "text",
    "id": "MdXsUXbCVqAV"
   },
   "source": [
    "# 27. Какие актеры чаще всего снимаются в одном фильме вместе?\n"
   ]
  },
  {
   "cell_type": "code",
   "execution_count": 51,
   "metadata": {},
   "outputs": [
    {
     "name": "stdout",
     "output_type": "stream",
     "text": [
      "[(('Daniel Radcliffe', 'Rupert Grint'), 8)]\n"
     ]
    }
   ],
   "source": [
    "import collections\n",
    "from itertools import combinations\n",
    "data27 = data.copy()\n",
    "# убираем из поля 'cast' разделитель, формируем с помощью combinations все возможные варианты актерских пар и вносим их \n",
    "# в поле 'pairs'. далее объединяем датафрейм, в котором в каждой строке в поле 'pairs' есть одна актерская пара \n",
    "data27['cast'] = data27['cast'].apply(lambda x:x.split('|'))\n",
    "data27['pairs'] = data27['cast'].apply(lambda s: list(combinations(s, 2)))\n",
    "data27 = data27.explode('pairs')\n",
    "# считаем повторения всех актерских пар, сортируем по частоте повторений, сохраняем самую часто встречающуюся пару в ответе\n",
    "answers['27'] = collections.Counter(data27['pairs']).most_common(1)\n",
    "print(answers['27'])"
   ]
  },
  {
   "cell_type": "markdown",
   "metadata": {
    "colab_type": "text",
    "id": "U0nONFnGVqAX"
   },
   "source": [
    "# Submission"
   ]
  },
  {
   "cell_type": "code",
   "execution_count": 52,
   "metadata": {
    "colab": {},
    "colab_type": "code",
    "id": "IfcaRO9-VqAX",
    "outputId": "0f132912-32bb-4196-c98c-abfbc4ad5a5f"
   },
   "outputs": [
    {
     "data": {
      "text/plain": [
       "{'1': 'Pirates of the Caribbean: On Stranger Tides (tt1298650)',\n",
       " '2': 'Gods and Generals (tt0279111)',\n",
       " '3': 'Winnie the Pooh (tt1449283)',\n",
       " '4': 110,\n",
       " '5': 107.0,\n",
       " '6': 'Avatar (tt0499549)',\n",
       " '7': 'The Lone Ranger (tt1210819)',\n",
       " '8': 1478,\n",
       " '9': 'The Dark Knight (tt0468569)',\n",
       " '10': 'The Lone Ranger (tt1210819)',\n",
       " '11': 'Drama',\n",
       " '12': 'Drama',\n",
       " '13': 'Peter Jackson',\n",
       " '14': 'Robert Rodriguez',\n",
       " '15': 'Chris Hemsworth',\n",
       " '16': 'Matt Damon',\n",
       " '17': [('Action', 17)],\n",
       " '18': 'K-19: The Widowmaker',\n",
       " '19': 2015,\n",
       " '20': 2014,\n",
       " '21': [('9', 227)],\n",
       " '22': 450,\n",
       " '23': [('Peter Jackson', 7)],\n",
       " '24': 'Four By Two Productions',\n",
       " '25': 'Midnight Picture Show',\n",
       " '26': 'Inside Out, The Dark Knight, 12 Years a Slave',\n",
       " '27': [(('Daniel Radcliffe', 'Rupert Grint'), 8)]}"
      ]
     },
     "execution_count": 52,
     "metadata": {},
     "output_type": "execute_result"
    }
   ],
   "source": [
    "# в конце можно посмотреть свои ответы к каждому вопросу\n",
    "answers"
   ]
  },
  {
   "cell_type": "code",
   "execution_count": 53,
   "metadata": {
    "colab": {},
    "colab_type": "code",
    "id": "SiRmHPl8VqAd"
   },
   "outputs": [
    {
     "data": {
      "text/plain": [
       "27"
      ]
     },
     "execution_count": 53,
     "metadata": {},
     "output_type": "execute_result"
    }
   ],
   "source": [
    "# и убедиться что ни чего не пропустил)\n",
    "len(answers)"
   ]
  },
  {
   "cell_type": "code",
   "execution_count": null,
   "metadata": {},
   "outputs": [],
   "source": []
  }
 ],
 "metadata": {
  "colab": {
   "name": "Copy of [SF-DST] Movies IMBD v4.1 TEMPLATE.ipynb",
   "provenance": []
  },
  "kernelspec": {
   "display_name": "Python 3",
   "language": "python",
   "name": "python3"
  },
  "language_info": {
   "codemirror_mode": {
    "name": "ipython",
    "version": 3
   },
   "file_extension": ".py",
   "mimetype": "text/x-python",
   "name": "python",
   "nbconvert_exporter": "python",
   "pygments_lexer": "ipython3",
   "version": "3.8.3"
  }
 },
 "nbformat": 4,
 "nbformat_minor": 1
}
